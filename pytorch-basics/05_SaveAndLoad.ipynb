{
 "cells": [
  {
   "attachments": {},
   "cell_type": "markdown",
   "id": "flying-mission",
   "metadata": {},
   "source": [
    "# Tensor与module的保存与加载\n",
    "\n",
    "https://pytorch.org/tutorials/beginner/saving_loading_models.html"
   ]
  },
  {
   "cell_type": "code",
   "execution_count": 2,
   "id": "mental-north",
   "metadata": {},
   "outputs": [],
   "source": [
    "import torch\n",
    "from torch import nn\n",
    "import os"
   ]
  },
  {
   "attachments": {},
   "cell_type": "markdown",
   "id": "gorgeous-floating",
   "metadata": {},
   "source": [
    "# Tensor的保存与加载"
   ]
  },
  {
   "cell_type": "code",
   "execution_count": 3,
   "id": "general-electric",
   "metadata": {},
   "outputs": [
    {
     "name": "stdout",
     "output_type": "stream",
     "text": [
      "tensor([[ 8.1307e-01,  7.7791e-02,  6.4913e-01,  5.2766e-01,  4.9626e-01],\n",
      "        [-6.8846e-01,  3.0333e-01,  1.5317e-01,  9.0840e-01, -1.7860e+00],\n",
      "        [-8.0498e-01, -5.7362e-01, -3.4265e-01, -1.3738e+00,  1.1405e+00],\n",
      "        [-2.6447e-01,  9.4211e-01, -8.5745e-01, -1.9118e-01, -2.7557e-01],\n",
      "        [-2.6007e-01,  1.9350e-03,  3.7661e-01,  1.2882e+00, -2.1934e+00]])\n"
     ]
    }
   ],
   "source": [
    "# 序列化到文件\n",
    "t = torch.randn(5, 5)\n",
    "print(t)\n",
    "torch.save(t, \"/tmp/t.tensor\")\n",
    "t1 = torch.load(\"/tmp/t.tensor\")\n",
    "assert torch.sum(t - t1) < 1e-5\n",
    "os.remove(\"/tmp/t.tensor\")"
   ]
  },
  {
   "cell_type": "markdown",
   "id": "22757acb",
   "metadata": {},
   "source": [
    "保存到内存中，以及从内存中加载"
   ]
  },
  {
   "cell_type": "code",
   "execution_count": 4,
   "id": "choice-active",
   "metadata": {},
   "outputs": [],
   "source": [
    "from io import BytesIO\n",
    "\n",
    "t = torch.randn(5, 5)\n",
    "buffer = BytesIO()\n",
    "torch.save(t, buffer)\n",
    "# 重置buffer的读写位置\n",
    "buffer.seek(0)\n",
    "t1 = torch.load(buffer)"
   ]
  },
  {
   "attachments": {},
   "cell_type": "markdown",
   "id": "remarkable-globe",
   "metadata": {},
   "source": [
    "# Module的保存与加载\n",
    "\n",
    "可以单独保存模型的参数，也可以把整个模型保存起来"
   ]
  },
  {
   "cell_type": "code",
   "execution_count": 5,
   "id": "explicit-gravity",
   "metadata": {},
   "outputs": [],
   "source": [
    "model = nn.Sequential(nn.Linear(25, 100), nn.ReLU(), nn.Linear(100, 10))\n",
    "torch.save(model.state_dict(), \"/tmp/mlp-params.pt\")"
   ]
  },
  {
   "cell_type": "code",
   "execution_count": 6,
   "id": "public-jewelry",
   "metadata": {},
   "outputs": [
    {
     "data": {
      "text/plain": [
       "<All keys matched successfully>"
      ]
     },
     "execution_count": 6,
     "metadata": {},
     "output_type": "execute_result"
    }
   ],
   "source": [
    "params = torch.load(\"/tmp/mlp-params.pt\")\n",
    "# 现在的模型加载一份离线的参数\n",
    "model.load_state_dict(params)"
   ]
  },
  {
   "cell_type": "markdown",
   "id": "55e136bc",
   "metadata": {},
   "source": [
    "直接保存整个 Moduel"
   ]
  },
  {
   "cell_type": "code",
   "execution_count": 8,
   "id": "ambient-dragon",
   "metadata": {},
   "outputs": [],
   "source": [
    "torch.save(model, \"/tmp/mlp-model.pt\")"
   ]
  },
  {
   "cell_type": "code",
   "execution_count": 9,
   "id": "english-christian",
   "metadata": {},
   "outputs": [
    {
     "name": "stdout",
     "output_type": "stream",
     "text": [
      "Sequential(\n",
      "  (0): Linear(in_features=25, out_features=100, bias=True)\n",
      "  (1): ReLU()\n",
      "  (2): Linear(in_features=100, out_features=10, bias=True)\n",
      ")\n"
     ]
    }
   ],
   "source": [
    "print(torch.load(\"/tmp/mlp-model.pt\"))"
   ]
  },
  {
   "cell_type": "markdown",
   "id": "5d6ba30a",
   "metadata": {},
   "source": [
    "在 PyTorch 中，如果你直接保存整个模型模块（即调用 `torch.save(model, 'model.pth')`），它会尝试保存模型的所有内容，包括模型的结构、参数以及模型定义中用到的所有第三方库的引用。然而，这种方法并不保存第三方库的实际实现代码，只保存了对这些库的引用和调用。因此，当你在不同的环境中加载这个模型时，必须确保所有依赖的第三方库已经安装且版本兼容，否则可能会遇到问题。\n",
    "\n",
    "仅保存 state_dict 可以确保模型在不同版本的 PyTorch 中更容易兼容。保存整个模型模块可能会导致在 PyTorch 更新版本后无法加载旧版本模型的问题，因为整个模型包含了版本相关的信息和代码。"
   ]
  },
  {
   "attachments": {},
   "cell_type": "markdown",
   "id": "fluid-stomach",
   "metadata": {},
   "source": [
    "# 使用GPU"
   ]
  },
  {
   "cell_type": "code",
   "execution_count": 10,
   "id": "banner-zealand",
   "metadata": {},
   "outputs": [],
   "source": [
    "gpu_model = model.to(device=\"cuda:0\")"
   ]
  },
  {
   "cell_type": "code",
   "execution_count": 11,
   "id": "banned-assist",
   "metadata": {},
   "outputs": [
    {
     "data": {
      "text/plain": [
       "tensor([[ 0.1331, -0.5196,  0.3243, -0.0070, -0.0491,  0.0294, -0.1772, -0.0146,\n",
       "          0.2648, -0.3006]], device='cuda:0', grad_fn=<AddmmBackward0>)"
      ]
     },
     "execution_count": 11,
     "metadata": {},
     "output_type": "execute_result"
    }
   ],
   "source": [
    "input = torch.randn(1, 25, device=\"cuda:0\")\n",
    "gpu_model(input)"
   ]
  },
  {
   "cell_type": "markdown",
   "id": "b4f30404",
   "metadata": {},
   "source": [
    "GPU下保存的Tesnor或model，加载回来时，还是在对应的GPU上"
   ]
  },
  {
   "cell_type": "code",
   "execution_count": 12,
   "id": "inside-conclusion",
   "metadata": {},
   "outputs": [
    {
     "data": {
      "text/plain": [
       "device(type='cuda', index=0)"
      ]
     },
     "execution_count": 12,
     "metadata": {},
     "output_type": "execute_result"
    }
   ],
   "source": [
    "t = torch.randn(3, 4, device=\"cuda\")\n",
    "torch.save(t, \"/tmp/t-cuda.pt\")\n",
    "t = torch.load(\"/tmp/t-cuda.pt\")\n",
    "t.device"
   ]
  },
  {
   "cell_type": "markdown",
   "id": "70af276c",
   "metadata": {},
   "source": [
    "# 优化器状态的保存与加载"
   ]
  },
  {
   "cell_type": "code",
   "execution_count": 13,
   "id": "8e3ffeb2",
   "metadata": {},
   "outputs": [],
   "source": [
    "optimizer = torch.optim.Adam(model.parameters(), lr=1e-4)\n",
    "\n",
    "checkpoint = {\"state_dict\": model.state_dict(), \"optimizer\": optimizer.state_dict()}\n",
    "\n",
    "torch.save(checkpoint, \"/tmp/tmp.ckpt\")"
   ]
  },
  {
   "cell_type": "code",
   "execution_count": 15,
   "id": "db9102bc",
   "metadata": {},
   "outputs": [
    {
     "name": "stdout",
     "output_type": "stream",
     "text": [
      "dict_keys(['state_dict', 'optimizer'])\n"
     ]
    }
   ],
   "source": [
    "checkpoint = torch.load(\"/tmp/tmp.ckpt\")\n",
    "print(checkpoint.keys())"
   ]
  },
  {
   "cell_type": "code",
   "execution_count": 16,
   "id": "8dec4e7b",
   "metadata": {},
   "outputs": [],
   "source": [
    "model.load_state_dict(checkpoint[\"state_dict\"])\n",
    "optimizer.load_state_dict(checkpoint[\"optimizer\"])"
   ]
  }
 ],
 "metadata": {
  "kernelspec": {
   "display_name": "Python 3",
   "language": "python",
   "name": "python3"
  },
  "language_info": {
   "codemirror_mode": {
    "name": "ipython",
    "version": 3
   },
   "file_extension": ".py",
   "mimetype": "text/x-python",
   "name": "python",
   "nbconvert_exporter": "python",
   "pygments_lexer": "ipython3",
   "version": "3.10.13"
  }
 },
 "nbformat": 4,
 "nbformat_minor": 5
}
