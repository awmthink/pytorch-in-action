{
 "cells": [
  {
   "attachments": {},
   "cell_type": "markdown",
   "id": "flying-mission",
   "metadata": {},
   "source": [
    "# Tensor与module的保存与加载\n",
    "\n",
    "https://pytorch.org/tutorials/beginner/saving_loading_models.html"
   ]
  },
  {
   "cell_type": "code",
   "execution_count": 1,
   "id": "mental-north",
   "metadata": {},
   "outputs": [],
   "source": [
    "import torch\n",
    "from torch import nn\n",
    "import os"
   ]
  },
  {
   "attachments": {},
   "cell_type": "markdown",
   "id": "gorgeous-floating",
   "metadata": {},
   "source": [
    "## Tensor的保存与加载"
   ]
  },
  {
   "cell_type": "code",
   "execution_count": 3,
   "id": "general-electric",
   "metadata": {},
   "outputs": [
    {
     "name": "stdout",
     "output_type": "stream",
     "text": [
      "tensor([[-0.7775, -1.1418,  2.3894,  1.1619, -0.3040],\n",
      "        [-0.3100,  0.7757, -0.9492, -0.7231, -1.1211],\n",
      "        [ 0.0469,  0.5327, -1.4517,  0.1013,  0.3704],\n",
      "        [-0.9112, -0.1610,  0.9753,  0.5036, -1.0410],\n",
      "        [ 1.7074, -1.2069,  0.5206,  1.0643, -1.1562]])\n"
     ]
    }
   ],
   "source": [
    "# 序列化到文件\n",
    "t = torch.randn(5, 5)\n",
    "print(t)\n",
    "torch.save(t, \"/tmp/t.tensor\")\n",
    "t1 = torch.load(\"/tmp/t.tensor\", weights_only=True)\n",
    "assert torch.sum(t - t1) < 1e-5\n",
    "os.remove(\"/tmp/t.tensor\")"
   ]
  },
  {
   "cell_type": "markdown",
   "id": "22757acb",
   "metadata": {},
   "source": [
    "保存到内存中，以及从内存中加载"
   ]
  },
  {
   "cell_type": "code",
   "execution_count": 5,
   "id": "choice-active",
   "metadata": {},
   "outputs": [],
   "source": [
    "from io import BytesIO\n",
    "\n",
    "t = torch.randn(5, 5)\n",
    "buffer = BytesIO()\n",
    "torch.save(t, buffer)\n",
    "# 重置buffer的读写位置\n",
    "buffer.seek(0)\n",
    "t1 = torch.load(buffer, weights_only=True)"
   ]
  },
  {
   "attachments": {},
   "cell_type": "markdown",
   "id": "remarkable-globe",
   "metadata": {},
   "source": [
    "## Module的保存与加载\n",
    "\n",
    "可以单独保存模型的参数，也可以把整个模型保存起来"
   ]
  },
  {
   "cell_type": "code",
   "execution_count": 6,
   "id": "explicit-gravity",
   "metadata": {},
   "outputs": [],
   "source": [
    "model = nn.Sequential(nn.Linear(25, 100), nn.ReLU(), nn.Linear(100, 10))\n",
    "torch.save(model.state_dict(), \"/tmp/mlp-params.pt\")"
   ]
  },
  {
   "cell_type": "code",
   "execution_count": 8,
   "id": "public-jewelry",
   "metadata": {},
   "outputs": [
    {
     "data": {
      "text/plain": [
       "<All keys matched successfully>"
      ]
     },
     "execution_count": 8,
     "metadata": {},
     "output_type": "execute_result"
    }
   ],
   "source": [
    "params = torch.load(\"/tmp/mlp-params.pt\", weights_only=True)\n",
    "# 现在的模型加载一份离线的参数\n",
    "model.load_state_dict(params)"
   ]
  },
  {
   "cell_type": "markdown",
   "id": "55e136bc",
   "metadata": {},
   "source": [
    "直接保存整个 Moduel"
   ]
  },
  {
   "cell_type": "code",
   "execution_count": 9,
   "id": "ambient-dragon",
   "metadata": {},
   "outputs": [],
   "source": [
    "torch.save(model, \"/tmp/mlp-model.pt\")"
   ]
  },
  {
   "cell_type": "code",
   "execution_count": 12,
   "id": "english-christian",
   "metadata": {},
   "outputs": [
    {
     "name": "stdout",
     "output_type": "stream",
     "text": [
      "Sequential(\n",
      "  (0): Linear(in_features=25, out_features=100, bias=True)\n",
      "  (1): ReLU()\n",
      "  (2): Linear(in_features=100, out_features=10, bias=True)\n",
      ")\n"
     ]
    }
   ],
   "source": [
    "print(torch.load(\"/tmp/mlp-model.pt\", weights_only=False))"
   ]
  },
  {
   "cell_type": "markdown",
   "id": "5d6ba30a",
   "metadata": {},
   "source": [
    "在 PyTorch 中，如果你直接保存整个模型模块（即调用 `torch.save(model, 'model.pth')`），它会尝试保存模型的所有内容，包括模型的结构、参数以及模型定义中用到的所有第三方库的引用。然而，这种方法并不保存第三方库的实际实现代码，只保存了对这些库的引用和调用。因此，当你在不同的环境中加载这个模型时，必须确保所有依赖的第三方库已经安装且版本兼容，否则可能会遇到问题。\n",
    "\n",
    "仅保存 state_dict 可以确保模型在不同版本的 PyTorch 中更容易兼容。保存整个模型模块可能会导致在 PyTorch 更新版本后无法加载旧版本模型的问题，因为整个模型包含了版本相关的信息和代码。"
   ]
  },
  {
   "attachments": {},
   "cell_type": "markdown",
   "id": "fluid-stomach",
   "metadata": {},
   "source": [
    "## 使用GPU"
   ]
  },
  {
   "cell_type": "code",
   "execution_count": 13,
   "id": "banner-zealand",
   "metadata": {},
   "outputs": [],
   "source": [
    "gpu_model = model.to(device=\"cuda:0\")"
   ]
  },
  {
   "cell_type": "code",
   "execution_count": 14,
   "id": "banned-assist",
   "metadata": {},
   "outputs": [
    {
     "data": {
      "text/plain": [
       "tensor([[-0.5465, -0.3952, -0.3197, -0.1548, -0.4683, -0.0815, -0.5872, -0.6991,\n",
       "          0.1828,  0.1191]], device='cuda:0', grad_fn=<AddmmBackward0>)"
      ]
     },
     "execution_count": 14,
     "metadata": {},
     "output_type": "execute_result"
    }
   ],
   "source": [
    "input = torch.randn(1, 25, device=\"cuda:0\")\n",
    "gpu_model(input)"
   ]
  },
  {
   "cell_type": "markdown",
   "id": "b4f30404",
   "metadata": {},
   "source": [
    "GPU下保存的Tesnor或model，加载回来时，还是在对应的GPU上"
   ]
  },
  {
   "cell_type": "code",
   "execution_count": 16,
   "id": "inside-conclusion",
   "metadata": {},
   "outputs": [
    {
     "data": {
      "text/plain": [
       "device(type='cuda', index=0)"
      ]
     },
     "execution_count": 16,
     "metadata": {},
     "output_type": "execute_result"
    }
   ],
   "source": [
    "t = torch.randn(3, 4, device=\"cuda\")\n",
    "torch.save(t, \"/tmp/t-cuda.pt\")\n",
    "t = torch.load(\"/tmp/t-cuda.pt\", weights_only=True)\n",
    "t.device"
   ]
  },
  {
   "cell_type": "markdown",
   "id": "70af276c",
   "metadata": {},
   "source": [
    "## 优化器状态的保存与加载"
   ]
  },
  {
   "cell_type": "code",
   "execution_count": 17,
   "id": "8e3ffeb2",
   "metadata": {},
   "outputs": [],
   "source": [
    "optimizer = torch.optim.Adam(model.parameters(), lr=1e-4)\n",
    "\n",
    "checkpoint = {\"state_dict\": model.state_dict(), \"optimizer\": optimizer.state_dict()}\n",
    "\n",
    "torch.save(checkpoint, \"/tmp/tmp.ckpt\")"
   ]
  },
  {
   "cell_type": "code",
   "execution_count": 18,
   "id": "db9102bc",
   "metadata": {},
   "outputs": [
    {
     "name": "stdout",
     "output_type": "stream",
     "text": [
      "dict_keys(['state_dict', 'optimizer'])\n"
     ]
    }
   ],
   "source": [
    "checkpoint = torch.load(\"/tmp/tmp.ckpt\", weights_only=True)\n",
    "print(checkpoint.keys())"
   ]
  },
  {
   "cell_type": "code",
   "execution_count": 19,
   "id": "8dec4e7b",
   "metadata": {},
   "outputs": [],
   "source": [
    "model.load_state_dict(checkpoint[\"state_dict\"])\n",
    "optimizer.load_state_dict(checkpoint[\"optimizer\"])"
   ]
  },
  {
   "cell_type": "markdown",
   "id": "ee343d89",
   "metadata": {},
   "source": [
    "## `torch.load`与`torch.save`的原理\n",
    "\n",
    "在 PyTorch 中，`torch.save` 和 `torch.load` 是用于模型、张量和其他任意数据的序列化和反序列化的函数。它们底层基于 Python 的 pickle 模块，并通过一些优化来确保高效、灵活地保存和加载数据。\n",
    "\n",
    "\n",
    "### Save\n",
    "\n",
    "torch.save 实际上是将对象转换为字节流，即序列化。这是通过 Python 的 pickle 模块完成的。PyTorch 对 pickle 进行了扩展，使其能够处理张量等 PyTorch 特有的对象。\n",
    "\n",
    "* 如果保存的对象包含张量，PyTorch 通过自定义的序列化机制将这些张量序列化。\n",
    "* PyTorch 内部会识别出张量的设备信息（如 CPU 或 GPU）以及张量的数据类型，并确保这些信息在序列化时被保留。\n",
    "* 对于张量，`torch.save` 会对其进行压缩或使用优化的存储方式，以便节省磁盘空间。\n",
    "* 为了增强向后兼容性，PyTorch 还会保存版本信息，这样在不同版本的 PyTorch 中使用时，仍然可以正常加载模型和数据。\n",
    "\n",
    "### Load\n",
    "\n",
    "torch.load 会读取文件中的字节流，并使用 pickle 反序列化为原始的 Python 对象。如果反序列化过程中涉及到张量，PyTorch 会恢复张量的设备和数据类型。通过 pickle，PyTorch 内部的序列化扩展会识别并恢复保存时的张量对象。\n",
    "\n",
    "在加载模型时，PyTorch 会自动将保存时的设备信息（如 CPU 或 GPU）与当前设备进行匹配。如果当前环境中没有 GPU，但保存时模型是在 GPU 上，PyTorch 可以通过 map_location 参数将张量映射到 CPU 上。"
   ]
  },
  {
   "cell_type": "code",
   "execution_count": 21,
   "id": "e3fb4539",
   "metadata": {},
   "outputs": [],
   "source": [
    "class MyModel(nn.Module):\n",
    "    def __init__(self):\n",
    "        super(MyModel, self).__init__()\n",
    "        self.layer1 = nn.Linear(100, 50)\n",
    "        self.layer2 = nn.Linear(50, 10)\n",
    "\n",
    "    def forward(self, x):\n",
    "        x = self.layer1(x)\n",
    "        x = self.layer2(x)\n",
    "        return x\n",
    "\n",
    "# 保存模型的 state_dict（假设已经训练过）\n",
    "model = MyModel()\n",
    "torch.save(model.state_dict(), '/tmp/model.pth')  # 已经保存过，不需要重复保存\n",
    "\n",
    "\n",
    "# 定义自定义的 map_location 函数，将不同的层加载到不同的设备\n",
    "def custom_map_location(storage, loc):\n",
    "    if \"cuda:0\" in loc:  # 如果原来在 cuda:0 上\n",
    "        return storage.cuda(0)  # 保持在 cuda:0\n",
    "    elif \"cuda:1\" in loc:  # 如果原来在 cuda:1 上\n",
    "        return storage.cuda(1)  # 保持在 cuda:1\n",
    "    else:\n",
    "        return storage.cpu()  # 其余情况移动到 CPU\n",
    "\n",
    "\n",
    "# 使用自定义的 map_location 函数加载模型\n",
    "state_dict = torch.load(\"/tmp/model.pth\", map_location=custom_map_location, weights_only=True)\n",
    "\n",
    "os.remove(\"/tmp/model.pth\")"
   ]
  }
 ],
 "metadata": {
  "kernelspec": {
   "display_name": "pyml",
   "language": "python",
   "name": "python3"
  },
  "language_info": {
   "codemirror_mode": {
    "name": "ipython",
    "version": 3
   },
   "file_extension": ".py",
   "mimetype": "text/x-python",
   "name": "python",
   "nbconvert_exporter": "python",
   "pygments_lexer": "ipython3",
   "version": "3.10.13"
  }
 },
 "nbformat": 4,
 "nbformat_minor": 5
}
