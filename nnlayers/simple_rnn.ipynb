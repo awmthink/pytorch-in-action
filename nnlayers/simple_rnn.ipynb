{
 "cells": [
  {
   "cell_type": "code",
   "execution_count": 1,
   "metadata": {},
   "outputs": [],
   "source": [
    "import torch\n",
    "import torch.nn as nn\n",
    "import torch.nn.functional as F"
   ]
  },
  {
   "cell_type": "markdown",
   "metadata": {},
   "source": [
    "# 单个 RNN Cell 的实现"
   ]
  },
  {
   "cell_type": "markdown",
   "metadata": {},
   "source": [
    "## Pytorch 接口调用\n",
    "\n",
    "输入的是一个形状为 `(batch, hidden_size)` 的 Tensor"
   ]
  },
  {
   "cell_type": "code",
   "execution_count": 2,
   "metadata": {},
   "outputs": [],
   "source": [
    "batch_size = 8\n",
    "input_size = 64\n",
    "hidden_size = 128\n",
    "bias = True\n",
    "\n",
    "input_tensor = torch.randn(batch_size, input_size)\n",
    "\n",
    "torch_rnn_cell = torch.nn.RNNCell(input_size, hidden_size, bias)\n",
    "output_tensor_torch = torch_rnn_cell(input_tensor)"
   ]
  },
  {
   "cell_type": "markdown",
   "metadata": {},
   "source": [
    "## RNN Cell 手动实现\n",
    "\n",
    "向量形式：$h'=\\text{tanh}(W_{ih}x+b_{ih}+W_{hh}h+b_{hh})$\n",
    "\n",
    "Batch化的矩阵形式：$H'=\\text{tanh}(XW_{ih}^T+b_{ih}+HW_{hh}^T+b_{hh})$"
   ]
  },
  {
   "cell_type": "code",
   "execution_count": 3,
   "metadata": {},
   "outputs": [
    {
     "name": "stdout",
     "output_type": "stream",
     "text": [
      "rnn cell output allclose:  ✅\n"
     ]
    }
   ],
   "source": [
    "def rnn_cell(\n",
    "    x: torch.Tensor,\n",
    "    h: torch.Tensor,\n",
    "    W_hh: torch.Tensor,\n",
    "    W_ih: torch.Tensor,\n",
    "    bias_ih: torch.Tensor,\n",
    "    bias_hh: torch.Tensor,\n",
    ") -> torch.Tensor:\n",
    "    h_out = F.tanh(x @ W_ih.t() + h @ W_hh.t() + bias_hh + bias_ih)\n",
    "    return h_out\n",
    "\n",
    "\n",
    "weight_ih = torch_rnn_cell.weight_ih  # [hidden_size, input_size]\n",
    "weight_hh = torch_rnn_cell.weight_hh  # [hidden_size, hidden_size]\n",
    "bias_ih = torch_rnn_cell.bias_ih  # [hidden_size]\n",
    "bais_hh = torch_rnn_cell.bias_hh  #  [hidden_size]\n",
    "\n",
    "h_init = torch.zeros(batch_size, hidden_size)  # [batch_size, hidden_size]\n",
    "\n",
    "output_tensor = rnn_cell(input_tensor, h_init, weight_hh, weight_ih, bias_ih, bais_hh)\n",
    "print(\n",
    "    \"rnn cell output allclose: \",\n",
    "    \"✅\" if torch.allclose(output_tensor_torch, output_tensor, atol=1e-6) else \"❌\",\n",
    ")"
   ]
  },
  {
   "cell_type": "markdown",
   "metadata": {},
   "source": [
    "# 多层 RNN 网络"
   ]
  },
  {
   "cell_type": "markdown",
   "metadata": {},
   "source": [
    "## 多层 RNN 的 Pytorch API"
   ]
  },
  {
   "cell_type": "code",
   "execution_count": 4,
   "metadata": {},
   "outputs": [],
   "source": [
    "batch_size = 8\n",
    "input_size = 64\n",
    "hidden_size = 128\n",
    "seqlen = 32\n",
    "bias = True\n",
    "num_layers = 2\n",
    "\n",
    "input_tensor = torch.randn(batch_size, seqlen, input_size)"
   ]
  },
  {
   "cell_type": "code",
   "execution_count": 5,
   "metadata": {},
   "outputs": [],
   "source": [
    "two_layer_rnn_torch = nn.RNN(\n",
    "    input_size,\n",
    "    hidden_size,\n",
    "    num_layers,\n",
    "    batch_first=True,\n",
    "    bidirectional=False,\n",
    ")\n",
    "\n",
    "output_tensors_torch = two_layer_rnn_torch(input_tensor)"
   ]
  },
  {
   "cell_type": "markdown",
   "metadata": {},
   "source": [
    "## 多层 RNN 的手动实现"
   ]
  },
  {
   "cell_type": "code",
   "execution_count": 6,
   "metadata": {},
   "outputs": [
    {
     "name": "stdout",
     "output_type": "stream",
     "text": [
      "otuput allclose:  ✅\n",
      "hidden states allclose:  ✅\n"
     ]
    }
   ],
   "source": [
    "def two_layer_rnn(input_tensor, layer_params, h0=None):\n",
    "    output_tensor = input_tensor.permute(1, 0, 2)\n",
    "    seqlen, batch_size, _ = output_tensor.shape\n",
    "    num_layers = len(layer_params)\n",
    "    hidden_size = layer_params[0][0].size(0)  # weight_ih_l0\n",
    "    if h0 is None:\n",
    "        ht = torch.zeros(num_layers, batch_size, hidden_size)\n",
    "    else:\n",
    "        ht = h0\n",
    "\n",
    "    for layer in range(num_layers):\n",
    "        output = []\n",
    "        for t in range(seqlen):\n",
    "            W_ih, W_hh, bias_ih, bias_hh = layer_params[layer]\n",
    "            ht[layer] = torch.tanh(\n",
    "                output_tensor[t] @ W_ih.t() + ht[layer] @ W_hh.t() + bias_ih + bias_hh\n",
    "            )\n",
    "            output.append(ht[layer].clone())\n",
    "        output_tensor = torch.stack(output)\n",
    "    return output_tensor.permute(1, 0, 2), ht\n",
    "\n",
    "\n",
    "layer_params = [\n",
    "    (\n",
    "        two_layer_rnn_torch.weight_ih_l0,\n",
    "        two_layer_rnn_torch.weight_hh_l0,\n",
    "        two_layer_rnn_torch.bias_ih_l0,\n",
    "        two_layer_rnn_torch.bias_hh_l0,\n",
    "    ),\n",
    "    (\n",
    "        two_layer_rnn_torch.weight_ih_l1,\n",
    "        two_layer_rnn_torch.weight_hh_l1,\n",
    "        two_layer_rnn_torch.bias_ih_l1,\n",
    "        two_layer_rnn_torch.bias_hh_l1,\n",
    "    ),\n",
    "]\n",
    "output_tensors = two_layer_rnn(input_tensor, layer_params)\n",
    "print(\n",
    "    \"otuput allclose: \",\n",
    "    (\n",
    "        \"✅\"\n",
    "        if torch.allclose(output_tensors_torch[0], output_tensors[0], atol=1e-6)\n",
    "        else \"❌\"\n",
    "    ),\n",
    ")\n",
    "print(\n",
    "    \"hidden states allclose: \",\n",
    "    (\n",
    "        \"✅\"\n",
    "        if torch.allclose(output_tensors_torch[1], output_tensors[1], atol=1e-6)\n",
    "        else \"❌\"\n",
    "    ),\n",
    ")"
   ]
  },
  {
   "cell_type": "markdown",
   "metadata": {},
   "source": [
    "# 双向多层 RNN"
   ]
  },
  {
   "cell_type": "markdown",
   "metadata": {},
   "source": [
    "## 双向RNN的 Pytorch 接口"
   ]
  },
  {
   "cell_type": "code",
   "execution_count": 7,
   "metadata": {},
   "outputs": [],
   "source": [
    "two_layer_bidir_rnn_torch = nn.RNN(\n",
    "    input_size, hidden_size, num_layers, batch_first=True, bidirectional=True\n",
    ")\n",
    "output_tensors_torch = two_layer_bidir_rnn_torch(input_tensor)"
   ]
  },
  {
   "cell_type": "markdown",
   "metadata": {},
   "source": [
    "## 双向 RNN 的手动实现"
   ]
  },
  {
   "cell_type": "code",
   "execution_count": 8,
   "metadata": {},
   "outputs": [
    {
     "name": "stdout",
     "output_type": "stream",
     "text": [
      "otuput allclose:  ✅\n",
      "hidden states allclose:  ✅\n"
     ]
    }
   ],
   "source": [
    "def two_layer_bidir_rnn(input_tensor, layer_params, h0=None, bidirection=True):\n",
    "    output_tensor = input_tensor.permute(1, 0, 2)\n",
    "    seqlen, batch_size, _ = output_tensor.shape\n",
    "    num_layers = len(layer_params)\n",
    "    hidden_size = layer_params[0][0].size(0)  # weight_ih_l0\n",
    "    directions = 2 if bidirection else 1\n",
    "    if h0 is None:\n",
    "        ht = torch.zeros(directions * num_layers, batch_size, hidden_size)\n",
    "    else:\n",
    "        ht = h0\n",
    "\n",
    "    for layer in range(num_layers):\n",
    "        # 正向\n",
    "        W_ih, W_hh, bias_ih, bias_hh = layer_params[layer][:4]\n",
    "        output = []\n",
    "        for t in range(seqlen):\n",
    "            ht[2 * layer] = torch.tanh(\n",
    "                output_tensor[t] @ W_ih.t()\n",
    "                + ht[2 * layer] @ W_hh.t()\n",
    "                + bias_ih\n",
    "                + bias_hh\n",
    "            )\n",
    "            output.append(ht[2 * layer].clone())\n",
    "        # 反向\n",
    "        W_ih, W_hh, bias_ih, bias_hh = layer_params[layer][4:]\n",
    "        reverse_output = []\n",
    "        for t in range(seqlen):\n",
    "            ht[2 * layer + 1] = torch.tanh(\n",
    "                output_tensor[seqlen - t - 1] @ W_ih.t()\n",
    "                + ht[2 * layer + 1] @ W_hh.t()\n",
    "                + bias_ih\n",
    "                + bias_hh\n",
    "            )\n",
    "            reverse_output.append(ht[2 * layer + 1].clone())\n",
    "        reverse_output.reverse()\n",
    "        output_tensor = torch.concat(\n",
    "            [torch.stack(output), torch.stack(reverse_output)], dim=-1\n",
    "        )\n",
    "    return output_tensor.permute(1, 0, 2), ht\n",
    "\n",
    "\n",
    "bi_rnn_layer_params = [\n",
    "    (\n",
    "        two_layer_bidir_rnn_torch.weight_ih_l0,\n",
    "        two_layer_bidir_rnn_torch.weight_hh_l0,\n",
    "        two_layer_bidir_rnn_torch.bias_ih_l0,\n",
    "        two_layer_bidir_rnn_torch.bias_hh_l0,\n",
    "        two_layer_bidir_rnn_torch.weight_ih_l0_reverse,\n",
    "        two_layer_bidir_rnn_torch.weight_hh_l0_reverse,\n",
    "        two_layer_bidir_rnn_torch.bias_ih_l0_reverse,\n",
    "        two_layer_bidir_rnn_torch.bias_hh_l0_reverse,\n",
    "    ),\n",
    "    (\n",
    "        two_layer_bidir_rnn_torch.weight_ih_l1,\n",
    "        two_layer_bidir_rnn_torch.weight_hh_l1,\n",
    "        two_layer_bidir_rnn_torch.bias_ih_l1,\n",
    "        two_layer_bidir_rnn_torch.bias_hh_l1,\n",
    "        two_layer_bidir_rnn_torch.weight_ih_l1_reverse,\n",
    "        two_layer_bidir_rnn_torch.weight_hh_l1_reverse,\n",
    "        two_layer_bidir_rnn_torch.bias_ih_l1_reverse,\n",
    "        two_layer_bidir_rnn_torch.bias_hh_l1_reverse,\n",
    "    ),\n",
    "]\n",
    "\n",
    "output_tensors = two_layer_bidir_rnn(\n",
    "    input_tensor, bi_rnn_layer_params, bidirection=True\n",
    ")\n",
    "\n",
    "print(\n",
    "    \"otuput allclose: \",\n",
    "    (\n",
    "        \"✅\"\n",
    "        if torch.allclose(output_tensors_torch[0], output_tensors[0], atol=1e-6)\n",
    "        else \"❌\"\n",
    "    ),\n",
    ")\n",
    "print(\n",
    "    \"hidden states allclose: \",\n",
    "    (\n",
    "        \"✅\"\n",
    "        if torch.allclose(output_tensors_torch[1], output_tensors[1], atol=1e-6)\n",
    "        else \"❌\"\n",
    "    ),\n",
    ")"
   ]
  }
 ],
 "metadata": {
  "kernelspec": {
   "display_name": "pyml",
   "language": "python",
   "name": "python3"
  },
  "language_info": {
   "codemirror_mode": {
    "name": "ipython",
    "version": 3
   },
   "file_extension": ".py",
   "mimetype": "text/x-python",
   "name": "python",
   "nbconvert_exporter": "python",
   "pygments_lexer": "ipython3",
   "version": "3.10.13"
  }
 },
 "nbformat": 4,
 "nbformat_minor": 2
}
