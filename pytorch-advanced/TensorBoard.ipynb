{
 "cells": [
  {
   "attachments": {},
   "cell_type": "markdown",
   "metadata": {},
   "source": [
    "# TensorBoard \n",
    "\n",
    "当我们在训练一个模型时，我们往往会在训练过程中加一些日志打印，包括训练损失，验证集上的精度等，这些日志可以让我们了解模型训练的一些进展。`TensorBoard`是一个可以让这个事情做的更好的工具，Pytorch中含有成了`TensorBoard`，可以让我们对多种数据进行可视化，以及对网络的训练过程进行跟踪。\n",
    "\n",
    "TensorBorad可以做哪些事：\n",
    "\n",
    "* Tracking and visualizing metrics such as loss and accuracy\n",
    "* Visualizing the model graph (ops and layers)\n",
    "* Viewing histograms of weights, biases, or other tensors as they change over time\n",
    "* Projecting embeddings to a lower dimensional space\n",
    "* Displaying images, text, and audio data\n",
    "* Profiling programs\n",
    "\n",
    "TensorBorad支持的时序数据类型有：\n",
    "\n",
    "* Scalar\n",
    "* Images,Video,Audio,Text\n",
    "* Histgram\n",
    "* Embedding Features\n",
    "* Hyper Parameters\n",
    "\n",
    "TensorBoard相关的参考链接：\n",
    "\n",
    "1. [Pytorch Tensorborad接口说明](https://pytorch.org/docs/stable/tensorboard.html)\n",
    "2. [Pytorch Tutorials: Visualization models, data, and training with tensorboard](https://pytorch.org/tutorials/intermediate/tensorboard_tutorial.html)\n",
    "3. [Pytorch Tutorials: Pytorch Profiler with tensorboard](https://pytorch.org/tutorials/intermediate/tensorboard_profiler_tutorial.html)"
   ]
  },
  {
   "cell_type": "code",
   "execution_count": 1,
   "metadata": {},
   "outputs": [],
   "source": [
    "import torch\n",
    "import matplotlib.pyplot as plt\n",
    "import torchvision.datasets\n",
    "import torchvision.transforms as transforms\n",
    "import torch.nn as nn\n",
    "import torch.optim as optim\n",
    "from torch.utils.data import DataLoader\n",
    "\n",
    "from torchvision import models\n",
    "\n",
    "from torch.utils.tensorboard import SummaryWriter"
   ]
  },
  {
   "attachments": {},
   "cell_type": "markdown",
   "metadata": {},
   "source": [
    "## 创建Tensorboard Writer"
   ]
  },
  {
   "cell_type": "code",
   "execution_count": 2,
   "metadata": {},
   "outputs": [],
   "source": [
    "writer = SummaryWriter(\"runs/tensorboard_tutor\")"
   ]
  },
  {
   "attachments": {},
   "cell_type": "markdown",
   "metadata": {},
   "source": [
    "## Data Visualization"
   ]
  },
  {
   "cell_type": "code",
   "execution_count": 3,
   "metadata": {},
   "outputs": [],
   "source": [
    "transform = transforms.Compose(\n",
    "    [transforms.RandomResizedCrop((224, 224)), transforms.ToTensor()]\n",
    ")\n",
    "\n",
    "flower_dataset = torchvision.datasets.ImageFolder(\"../data/flowers/\", transform)\n",
    "\n",
    "train_data, test_data = torch.utils.data.random_split(flower_dataset, [0.8, 0.2])\n",
    "\n",
    "train_iter = torch.utils.data.DataLoader(train_data, batch_size=8, shuffle=True)\n",
    "\n",
    "test_iter = torch.utils.data.DataLoader(test_data, batch_size=8, shuffle=False)"
   ]
  },
  {
   "cell_type": "code",
   "execution_count": 4,
   "metadata": {},
   "outputs": [],
   "source": [
    "images, labels = next(iter(train_iter))\n",
    "img_grid = torchvision.utils.make_grid(images)\n",
    "writer.add_image(\"flower_dataset_images\", img_grid)\n",
    "\n",
    "figure = plt.figure(figsize=(8, 4))\n",
    "cols, rows = 4, 2\n",
    "for i in range(cols * rows):\n",
    "    img, label = images[i].permute(1, 2, 0), labels[i]\n",
    "    ax = figure.add_subplot(rows, cols, i + 1)\n",
    "    ax.set_title(flower_dataset.classes[label])\n",
    "    ax.set_axis_off()  # 不显示x,y坐标轴上的刻度\n",
    "    ax.imshow(img)\n",
    "\n",
    "writer.add_figure(\"images_with_label\", figure)"
   ]
  },
  {
   "cell_type": "markdown",
   "metadata": {},
   "source": [
    "<div class=\"wy-nav-content-img\">\n",
    "    <img src=\"assets/Tensorboard_dataset_images.png\" width=\"800px\" alt=\"通过 `add_image` 在 TensorBaord 上展示的图片\">\n",
    "    <p>通过 `add_image` 在 TensorBaord 上展示的图片 </p>\n",
    "</div>\n",
    "\n",
    "<div class=\"wy-nav-content-img\">\n",
    "    <img src=\"assets/Tensorboard_images_with_label.png\" width=\"800px\" alt=\"通过 `add_figure` 在 TensorBaord 上展示的图片\">\n",
    "    <p>通过 `add_figure` 在 TensorBaord 上展示的图片 </p>\n",
    "</div>"
   ]
  },
  {
   "attachments": {},
   "cell_type": "markdown",
   "metadata": {},
   "source": [
    "## 模型可视化"
   ]
  },
  {
   "cell_type": "code",
   "execution_count": 5,
   "metadata": {},
   "outputs": [],
   "source": [
    "def get_model(num_classes):\n",
    "    model = torchvision.models.resnet18()\n",
    "    model.fc = nn.Linear(model.fc.in_features, num_classes)\n",
    "    nn.init.xavier_uniform_(model.fc.weight)\n",
    "    return model\n",
    "\n",
    "\n",
    "model = get_model(len(flower_dataset.classes))\n",
    "writer.add_graph(model, images)\n",
    "writer.close()"
   ]
  },
  {
   "cell_type": "markdown",
   "metadata": {},
   "source": [
    "<div class=\"wy-nav-content-img\">\n",
    "    <img src=\"assets/Tensorboard_model_graph.png\" width=\"400px\" alt=\"在 TensorBoard 上可以查看整个模型的结构\">\n",
    "    <p> 在 TensorBoard 上可以查看整个模型的结构 </p>\n",
    "</div>"
   ]
  },
  {
   "attachments": {},
   "cell_type": "markdown",
   "metadata": {},
   "source": [
    "## 训练过程可视化"
   ]
  },
  {
   "cell_type": "code",
   "execution_count": 6,
   "metadata": {},
   "outputs": [],
   "source": [
    "def epoch_train(\n",
    "    data_loader, model, optimizer, criterion, device, step, writer, classes\n",
    "):\n",
    "    losses = []\n",
    "    accuracies = []\n",
    "    model.train()\n",
    "    for batch_idx, (data, targets) in enumerate(data_loader):\n",
    "        data = data.to(device)\n",
    "        targets = targets.to(device)\n",
    "\n",
    "        scores = model(data)\n",
    "        loss = criterion(scores, targets)\n",
    "        losses.append(loss.item())\n",
    "\n",
    "        optimizer.zero_grad()\n",
    "        loss.backward()\n",
    "        optimizer.step()\n",
    "\n",
    "        predictions = scores.argmax(dim=1)\n",
    "        predict_labels = [classes[label] for label in predictions]\n",
    "        num_correct = (predictions == targets).sum()\n",
    "        train_acc = num_correct / float(data.size(0))\n",
    "        accuracies.append(train_acc)\n",
    "\n",
    "        img_grid = torchvision.utils.make_grid(data)\n",
    "\n",
    "        writer.add_image(\"flower_images\", img_grid)\n",
    "\n",
    "        writer.add_scalar(\"Training Loss\", loss.item(), global_step=step)\n",
    "        writer.add_scalar(\"Training Accuracy\", train_acc, global_step=step)\n",
    "\n",
    "        writer.add_histogram(\"model.fc\", model.fc.weight)\n",
    "\n",
    "        features = data.reshape(data.shape[0], -1)\n",
    "        if batch_idx == 10:\n",
    "            writer.add_embedding(\n",
    "                features, metadata=predict_labels, label_img=data, global_step=step\n",
    "            )\n",
    "\n",
    "        step += 1\n",
    "    return step, losses, accuracies\n",
    "\n",
    "\n",
    "def evaluate(data_loader, model, device):\n",
    "    model.eval()\n",
    "    accuracies = []\n",
    "\n",
    "    for data, targets in data_loader:\n",
    "        data = data.to(device)\n",
    "        targets = targets.to(device)\n",
    "        with torch.no_grad():\n",
    "            scores = model(data)\n",
    "            predictions = scores.argmax(dim=1)\n",
    "            num_correct = (predictions == targets).sum()\n",
    "            accuracies.append(num_correct / float(data.size(0)))\n",
    "    return sum(accuracies) / len(accuracies)"
   ]
  },
  {
   "cell_type": "markdown",
   "metadata": {},
   "source": [
    "\n",
    "<div class=\"wy-nav-content-img\">\n",
    "    <img src=\"assets/Tensorboard_hist.png\" width=\"500px\" alt=\"模型 FC 层权重的数值分布随着训练 step 的变化\">\n",
    "    <p> 模型 FC 层权重的数值分布随着训练 step 的变化 </p>\n",
    "</div>"
   ]
  },
  {
   "cell_type": "code",
   "execution_count": null,
   "metadata": {},
   "outputs": [],
   "source": [
    "device = torch.device(\"cuda\")\n",
    "\n",
    "num_epochs = 5\n",
    "batch_sizes = [32, 64, 128]\n",
    "learning_rates = [0.1, 0.3, 0.01, 0.03]\n",
    "\n",
    "for batch_size in batch_sizes:\n",
    "    for learning_rate in learning_rates:\n",
    "        step = 0\n",
    "        model = get_model(len(flower_dataset.classes))\n",
    "        model = model.to(device)\n",
    "        criterion = nn.CrossEntropyLoss()\n",
    "        train_iter = DataLoader(train_data, batch_size, True)\n",
    "        optimizer = optim.Adam(model.parameters(), lr=learning_rate)\n",
    "\n",
    "        # 为每一组超参数，创建对应在的 SummaryWriter\n",
    "        writer = SummaryWriter(\n",
    "            f\"runs/tensorboard_tutor/BatchSize {batch_size}, LR {learning_rate}\"\n",
    "        )\n",
    "\n",
    "        for epoch in range(num_epochs):\n",
    "            step, losses, accuracies = epoch_train(\n",
    "                train_iter,\n",
    "                model,\n",
    "                optimizer,\n",
    "                criterion,\n",
    "                device,\n",
    "                step,\n",
    "                writer,\n",
    "                flower_dataset.classes,\n",
    "            )\n",
    "\n",
    "            val_acc = evaluate(test_iter, model, device)\n",
    "\n",
    "            writer.add_scalar(\"Validation Accuracy\", val_acc, global_step=epoch)\n",
    "\n",
    "        # 本组实验结束后，将对应的超参数与训练的指标写入\n",
    "        writer.add_hparams(\n",
    "            {\"lr\": learning_rate, \"bsize\": batch_size},\n",
    "            {\n",
    "                \"accuracy\": sum(accuracies) / len(accuracies),\n",
    "                \"loss\": sum(losses) / len(losses),\n",
    "            },\n",
    "        )"
   ]
  },
  {
   "cell_type": "markdown",
   "metadata": {},
   "source": [
    "<div class=\"wy-nav-content-img\">\n",
    "    <img src=\"assets/Tensorboard_hparams.png\" width=\"1000px\" alt=\"超参的实验记录对比\">\n",
    "    <p> 超参的实验记录对比 </p>\n",
    "</div>\n",
    "\n",
    "<div class=\"wy-nav-content-img\">\n",
    "    <img src=\"assets/Tensorboard_parallel_coord_view.png\" width=\"800px\" alt=\"不同超参数下对应的测试指标的平行坐标视图\">\n",
    "    <p> 不同超参数下对应的测试指标的平行坐标视图 </p>\n",
    "</div>"
   ]
  },
  {
   "attachments": {},
   "cell_type": "markdown",
   "metadata": {},
   "source": [
    "## 分享训练过程\n",
    "\n",
    "```\n",
    "tensorboard dev upload --logdir runs --name \"Flower dataset classification experiment\" \n",
    "```"
   ]
  }
 ],
 "metadata": {
  "kernelspec": {
   "display_name": "pyml",
   "language": "python",
   "name": "python3"
  },
  "language_info": {
   "codemirror_mode": {
    "name": "ipython",
    "version": 3
   },
   "file_extension": ".py",
   "mimetype": "text/x-python",
   "name": "python",
   "nbconvert_exporter": "python",
   "pygments_lexer": "ipython3",
   "version": "3.10.13"
  },
  "orig_nbformat": 4
 },
 "nbformat": 4,
 "nbformat_minor": 2
}
