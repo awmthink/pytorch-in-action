{
 "cells": [
  {
   "attachments": {},
   "cell_type": "markdown",
   "metadata": {},
   "source": [
    "# Pytorch Lightning\n",
    "\n",
    "为什么要用 Pytorch Lightning ?\n",
    "\n",
    "在使用Pytorch进行深度学习研究时，随着做的项目开始出现了一些稍微高阶的要求，会发现总是不断地在相似工程代码上花费大量时间，Debug也是这些代码花的时间最多，而且渐渐产生了一个矛盾之处：如果想要更多更好的功能，如TensorBoard支持，Early Stop，LR Scheduler，分布式训练，快速测试等，代码就无可避免地变得越来越长，看起来也越来越乱，同时核心的训练逻辑也渐渐被这些工程代码盖过。那么有没有更好的解决方案，Pytorch Lightning就是希望来解决这些问题。\n",
    "\n",
    "Pytorch-Lighting 的核心设计思想是”自给自足”。每个网络也同时包含了如何训练、如何测试、优化器定义等内容。"
   ]
  },
  {
   "cell_type": "code",
   "execution_count": 1,
   "metadata": {},
   "outputs": [],
   "source": [
    "import shutil\n",
    "\n",
    "shutil.rmtree(\"./lightning_logs\", ignore_errors=True)"
   ]
  },
  {
   "attachments": {},
   "cell_type": "markdown",
   "metadata": {},
   "source": [
    "# Lightning Module\n",
    "\n",
    "Lightning的`fit`数据流伪代码：\n",
    "\n",
    "```python\n",
    "def fit(self):\n",
    "    if global_rank == 0:\n",
    "        # prepare data is called on GLOBAL_ZERO only\n",
    "        prepare_data()\n",
    "\n",
    "    configure_callbacks()\n",
    "\n",
    "    with parallel(devices):\n",
    "        # devices can be GPUs, TPUs, ...\n",
    "        train_on_device(model)\n",
    "\n",
    "\n",
    "def train_on_device(model):\n",
    "    # called PER DEVICE\n",
    "    setup(\"fit\")\n",
    "    configure_optimizers()\n",
    "    on_fit_start()\n",
    "\n",
    "    # the sanity check runs here\n",
    "\n",
    "    on_train_start()\n",
    "    for epoch in epochs:\n",
    "        fit_loop()\n",
    "    on_train_end()\n",
    "\n",
    "    on_fit_end()\n",
    "    teardown(\"fit\")\n",
    "\n",
    "\n",
    "def fit_loop():\n",
    "    model.train()\n",
    "    torch.set_grad_enabled(True)\n",
    "\n",
    "    on_train_epoch_start()\n",
    "\n",
    "    for batch in train_dataloader():\n",
    "        on_train_batch_start()\n",
    "\n",
    "        on_before_batch_transfer()\n",
    "        transfer_batch_to_device()\n",
    "        on_after_batch_transfer()\n",
    "\n",
    "        out = training_step()\n",
    "\n",
    "        on_before_zero_grad()\n",
    "        optimizer_zero_grad()\n",
    "\n",
    "        on_before_backward()\n",
    "        backward()\n",
    "        on_after_backward()\n",
    "\n",
    "        on_before_optimizer_step()\n",
    "        configure_gradient_clipping()\n",
    "        optimizer_step()\n",
    "\n",
    "        on_train_batch_end(out, batch, batch_idx)\n",
    "\n",
    "        # 每个epoch的最后一个batch后，执行val_loop()\n",
    "        if should_check_val:\n",
    "            val_loop()\n",
    "\n",
    "    on_train_epoch_end()\n",
    "\n",
    "\n",
    "def val_loop():\n",
    "    on_validation_model_eval()  # calls `model.eval()`\n",
    "    torch.set_grad_enabled(False)\n",
    "\n",
    "    on_validation_start()\n",
    "    on_validation_epoch_start()\n",
    "\n",
    "    for batch_idx, batch in enumerate(val_dataloader()):\n",
    "        on_validation_batch_start(batch, batch_idx)\n",
    "\n",
    "        batch = on_before_batch_transfer(batch)\n",
    "        batch = transfer_batch_to_device(batch)\n",
    "        batch = on_after_batch_transfer(batch)\n",
    "\n",
    "        out = validation_step(batch, batch_idx)\n",
    "\n",
    "        on_validation_batch_end(out, batch, batch_idx)\n",
    "\n",
    "    on_validation_epoch_end()\n",
    "    on_validation_end()\n",
    "\n",
    "    # set up for train\n",
    "    on_validation_model_train()  # calls `model.train()`\n",
    "    torch.set_grad_enabled(True)\n",
    "```\n",
    "\n",
    "## `training_step`\n",
    "\n",
    "`training_step`对一个min-batch进行前向计算和loss计算，并将计算的loss返回，可以以`Tensor`的形式将loss返回，也可以以一个字典的形式返回，但字典中必须有一个名为'loss'的key。"
   ]
  },
  {
   "attachments": {},
   "cell_type": "markdown",
   "metadata": {},
   "source": [
    "# Simple Linear NN"
   ]
  },
  {
   "cell_type": "code",
   "execution_count": 2,
   "metadata": {},
   "outputs": [],
   "source": [
    "from torch import nn, optim\n",
    "import torch.nn.functional as F\n",
    "import pytorch_lightning as pl\n",
    "import torchmetrics\n",
    "\n",
    "\n",
    "class LightningNN(pl.LightningModule):\n",
    "    def __init__(self, input_size, num_classes, learning_rate):\n",
    "        super().__init__()\n",
    "        self.save_hyperparameters()\n",
    "        # model\n",
    "        self.fc1 = nn.Linear(input_size, 50)\n",
    "        self.fc2 = nn.Linear(50, num_classes)\n",
    "        # loss function\n",
    "        self.loss_fn = nn.CrossEntropyLoss()\n",
    "\n",
    "        self.learning_rate = learning_rate\n",
    "        self.accuracy = torchmetrics.Accuracy(\n",
    "            task=\"multiclass\", num_classes=num_classes\n",
    "        )\n",
    "        self.f1_score = torchmetrics.F1Score(task=\"multiclass\", num_classes=num_classes)\n",
    "\n",
    "    def forward(self, x):\n",
    "        x = F.relu(self.fc1(x))\n",
    "        return self.fc2(x)\n",
    "\n",
    "    def training_step(self, batch, batch_idx):\n",
    "        loss, accuracy, f1_score = self._common_step(batch, batch_idx)\n",
    "        self.log_dict(\n",
    "            {\n",
    "                \"train_loss\": loss,\n",
    "                \"train_accuracy\": accuracy,\n",
    "                \"train_f1_score\": f1_score,\n",
    "            },\n",
    "            on_step=True,\n",
    "            on_epoch=True,\n",
    "            prog_bar=True,\n",
    "        )\n",
    "        return loss\n",
    "\n",
    "    def validation_step(self, batch, batch_idx):\n",
    "        loss, accuracy, f1_score = self._common_step(batch, batch_idx)\n",
    "        self.log_dict(\n",
    "            {\n",
    "                \"val_loss\": loss,\n",
    "                \"val_accuracy\": accuracy,\n",
    "                \"val_f1_score\": f1_score,\n",
    "            },\n",
    "            on_step=False,\n",
    "            on_epoch=True,\n",
    "            prog_bar=True,\n",
    "        )\n",
    "        return loss\n",
    "\n",
    "    def test_step(self, batch, batch_idx):\n",
    "        loss, accuracy, f1_score = self._common_step(batch, batch_idx)\n",
    "        self.log_dict(\n",
    "            {\n",
    "                \"test_loss\": loss,\n",
    "                \"test_accuracy\": accuracy,\n",
    "                \"test_f1_score\": f1_score,\n",
    "            }\n",
    "        )\n",
    "        return loss\n",
    "\n",
    "    def _common_step(self, batch, batch_idx):\n",
    "        x, y = batch\n",
    "        x = x.reshape((x.shape[0], -1))\n",
    "        logits = self.forward(x)\n",
    "        loss = self.loss_fn(logits, y)\n",
    "\n",
    "        accuracy = self.accuracy(logits, y)\n",
    "        f1_score = self.f1_score(logits, y)\n",
    "\n",
    "        return loss, accuracy, f1_score\n",
    "\n",
    "    def predict_step(self, batch, batch_idx):\n",
    "        x, y = batch\n",
    "        x = x.reshape((x.shape[0], -1))\n",
    "        logits = self.forward(x)\n",
    "        preds = logits.argmax(dim=1)\n",
    "        return preds\n",
    "\n",
    "    def configure_optimizers(self):\n",
    "        return optim.Adam(self.parameters(), lr=self.learning_rate)"
   ]
  },
  {
   "attachments": {},
   "cell_type": "markdown",
   "metadata": {},
   "source": [
    "# DataModule"
   ]
  },
  {
   "cell_type": "code",
   "execution_count": 3,
   "metadata": {},
   "outputs": [],
   "source": [
    "from torchvision import datasets, transforms\n",
    "from torch.utils import data\n",
    "from torch.utils.data import random_split\n",
    "\n",
    "\n",
    "class MNISTDataModule(pl.LightningDataModule):\n",
    "    def __init__(self, data_dir, batch_size, num_workers):\n",
    "        super().__init__()\n",
    "        self.data_dir = data_dir\n",
    "        self.batch_size = batch_size\n",
    "        self.num_workers = num_workers\n",
    "\n",
    "    # Download data on single GPU\n",
    "    def prepare_data(self):\n",
    "        datasets.MNIST(self.data_dir, train=True, download=True)\n",
    "        datasets.MNIST(self.data_dir, train=False, download=True)\n",
    "\n",
    "    def setup(self, stage):\n",
    "        entire_dataset = datasets.MNIST(\n",
    "            self.data_dir,\n",
    "            train=True,\n",
    "            transform=transforms.ToTensor(),\n",
    "            download=False,\n",
    "        )\n",
    "        self.train_ds, self.val_ds = random_split(entire_dataset, [50000, 10000])\n",
    "        self.test_ds = datasets.MNIST(\n",
    "            self.data_dir,\n",
    "            train=False,\n",
    "            transform=transforms.ToTensor(),\n",
    "            download=False,\n",
    "        )\n",
    "\n",
    "    def train_dataloader(self):\n",
    "        return data.DataLoader(\n",
    "            self.train_ds,\n",
    "            batch_size=self.batch_size,\n",
    "            num_workers=self.num_workers,\n",
    "            shuffle=True,\n",
    "        )\n",
    "\n",
    "    def val_dataloader(self):\n",
    "        return data.DataLoader(\n",
    "            self.val_ds,\n",
    "            batch_size=self.batch_size,\n",
    "            num_workers=self.num_workers,\n",
    "            shuffle=False,\n",
    "        )\n",
    "\n",
    "    def test_dataloader(self):\n",
    "        return data.DataLoader(\n",
    "            self.test_ds,\n",
    "            batch_size=self.batch_size,\n",
    "            num_workers=self.num_workers,\n",
    "            shuffle=False,\n",
    "        )"
   ]
  },
  {
   "attachments": {},
   "cell_type": "markdown",
   "metadata": {},
   "source": [
    "# Config"
   ]
  },
  {
   "cell_type": "code",
   "execution_count": 4,
   "metadata": {},
   "outputs": [],
   "source": [
    "import torch\n",
    "\n",
    "torch.set_float32_matmul_precision(\"medium\")\n",
    "\n",
    "data_dir = \"../data/\"\n",
    "accelerator = \"gpu\"\n",
    "devices = [0]\n",
    "input_size = 784\n",
    "num_classes = 10\n",
    "learning_rate = 0.001\n",
    "batch_size = 64\n",
    "num_epochs = 3\n",
    "num_threads = 4\n",
    "precision = \"16-mixed\""
   ]
  },
  {
   "attachments": {},
   "cell_type": "markdown",
   "metadata": {},
   "source": [
    "# CallBack\n",
    "\n",
    "Callbacks 使得我们可以对整个执行流中的一些桩点插入一些自定义代码。桩点可以参考，前面整个数据流的伪代码部分。\n",
    "\n",
    "https://lightning.ai/docs/pytorch/stable/extensions/callbacks.html\n",
    "\n",
    "\n",
    "**Best Practices**\n",
    "\n",
    "The following are best practices when using/designing callbacks.\n",
    "\n",
    "* Callbacks should be isolated in their functionality.\n",
    "* Your callback should not rely on the behavior of other callbacks in order to work properly.\n",
    "* Do not manually call methods from the callback.\n",
    "* Directly calling methods (eg. on_validation_end) is strongly discouraged.\n",
    "* Whenever possible, your callbacks should not depend on the order in which they are executed."
   ]
  },
  {
   "cell_type": "code",
   "execution_count": 5,
   "metadata": {},
   "outputs": [],
   "source": [
    "import pytorch_lightning as pl\n",
    "from pytorch_lightning.callbacks import ModelCheckpoint, EarlyStopping, Callback\n",
    "\n",
    "checkpoint_cb = ModelCheckpoint(\n",
    "    monitor=\"val_loss\",\n",
    "    filename=\"simple-mnist-{epoch:02d}-{val_loss:.2f}\",\n",
    "    save_top_k=3,\n",
    "    mode=\"min\",\n",
    "    save_last=True,\n",
    ")\n",
    "\n",
    "early_stoppping_cb = EarlyStopping(monitor=\"val_loss\")\n",
    "\n",
    "\n",
    "class MyPrintingCallback(Callback):\n",
    "    def on_train_start(self, trainer, pl_module):\n",
    "        print(\"Training is starting\")\n",
    "\n",
    "    def on_train_end(self, trainer, pl_module):\n",
    "        print(\"Training is ending\")\n",
    "\n",
    "\n",
    "custom_printing_cb = MyPrintingCallback()"
   ]
  },
  {
   "attachments": {},
   "cell_type": "markdown",
   "metadata": {},
   "source": [
    "# Trainer\n",
    "\n",
    "https://lightning.ai/docs/pytorch/stable/common/trainer.html\n",
    "\n",
    "The Lightning `Trainer` does much more than just “training”. Under the hood, it handles all loop details for you, some examples include:\n",
    "\n",
    "* Automatically enabling/disabling grads\n",
    "* Running the training, validation and test dataloaders\n",
    "* Calling the Callbacks at the appropriate times\n",
    "* Putting batches and computations on the correct devices"
   ]
  },
  {
   "cell_type": "code",
   "execution_count": 6,
   "metadata": {},
   "outputs": [
    {
     "name": "stderr",
     "output_type": "stream",
     "text": [
      "Using 16bit Automatic Mixed Precision (AMP)\n",
      "GPU available: True (cuda), used: True\n",
      "TPU available: False, using: 0 TPU cores\n",
      "IPU available: False, using: 0 IPUs\n",
      "HPU available: False, using: 0 HPUs\n",
      "Missing logger folder: /home/yangyansheng/workspace/pyml/pytorch-tutorials/lightning_logs\n",
      "LOCAL_RANK: 0 - CUDA_VISIBLE_DEVICES: [0,1,2,3,4,5,6,7,8]\n",
      "\n",
      "  | Name     | Type               | Params\n",
      "------------------------------------------------\n",
      "0 | fc1      | Linear             | 39.2 K\n",
      "1 | fc2      | Linear             | 510   \n",
      "2 | loss_fn  | CrossEntropyLoss   | 0     \n",
      "3 | accuracy | MulticlassAccuracy | 0     \n",
      "4 | f1_score | MulticlassF1Score  | 0     \n",
      "------------------------------------------------\n",
      "39.8 K    Trainable params\n",
      "0         Non-trainable params\n",
      "39.8 K    Total params\n",
      "0.159     Total estimated model params size (MB)\n"
     ]
    },
    {
     "data": {
      "application/vnd.jupyter.widget-view+json": {
       "model_id": "89f9efb7eaf84a75b3e36751b7913b91",
       "version_major": 2,
       "version_minor": 0
      },
      "text/plain": [
       "Sanity Checking: 0it [00:00, ?it/s]"
      ]
     },
     "metadata": {},
     "output_type": "display_data"
    },
    {
     "name": "stdout",
     "output_type": "stream",
     "text": [
      "Training is starting\n"
     ]
    },
    {
     "data": {
      "application/vnd.jupyter.widget-view+json": {
       "model_id": "57ba2f4fe2b0492c85c6eaffcfb781f4",
       "version_major": 2,
       "version_minor": 0
      },
      "text/plain": [
       "Training: 0it [00:00, ?it/s]"
      ]
     },
     "metadata": {},
     "output_type": "display_data"
    },
    {
     "data": {
      "application/vnd.jupyter.widget-view+json": {
       "model_id": "3fd94dd2ad244effb20c8b13535787d1",
       "version_major": 2,
       "version_minor": 0
      },
      "text/plain": [
       "Validation: 0it [00:00, ?it/s]"
      ]
     },
     "metadata": {},
     "output_type": "display_data"
    },
    {
     "data": {
      "application/vnd.jupyter.widget-view+json": {
       "model_id": "72f7f8ad5b0d45b5a079ff5471d01e4c",
       "version_major": 2,
       "version_minor": 0
      },
      "text/plain": [
       "Validation: 0it [00:00, ?it/s]"
      ]
     },
     "metadata": {},
     "output_type": "display_data"
    },
    {
     "data": {
      "application/vnd.jupyter.widget-view+json": {
       "model_id": "498b3e780de94ec2879d10fff662aacd",
       "version_major": 2,
       "version_minor": 0
      },
      "text/plain": [
       "Validation: 0it [00:00, ?it/s]"
      ]
     },
     "metadata": {},
     "output_type": "display_data"
    },
    {
     "name": "stderr",
     "output_type": "stream",
     "text": [
      "`Trainer.fit` stopped: `max_epochs=3` reached.\n"
     ]
    },
    {
     "name": "stdout",
     "output_type": "stream",
     "text": [
      "Training is ending\n"
     ]
    }
   ],
   "source": [
    "dm = MNISTDataModule(data_dir, batch_size, num_threads)\n",
    "model = LightningNN(input_size, num_classes, learning_rate)\n",
    "trainer = pl.Trainer(\n",
    "    accelerator=accelerator,\n",
    "    devices=devices,\n",
    "    min_epochs=1,\n",
    "    max_epochs=num_epochs,\n",
    "    precision=precision,\n",
    "    callbacks=[checkpoint_cb, early_stoppping_cb, custom_printing_cb],\n",
    ")\n",
    "trainer.fit(model, dm)"
   ]
  },
  {
   "attachments": {},
   "cell_type": "markdown",
   "metadata": {},
   "source": [
    "# Validation and Test"
   ]
  },
  {
   "cell_type": "code",
   "execution_count": 7,
   "metadata": {},
   "outputs": [
    {
     "name": "stderr",
     "output_type": "stream",
     "text": [
      "Using 16bit Automatic Mixed Precision (AMP)\n",
      "GPU available: True (cuda), used: True\n",
      "TPU available: False, using: 0 TPU cores\n",
      "IPU available: False, using: 0 IPUs\n",
      "HPU available: False, using: 0 HPUs\n",
      "LOCAL_RANK: 0 - CUDA_VISIBLE_DEVICES: [0,1,2,3,4,5,6,7,8]\n"
     ]
    },
    {
     "data": {
      "application/vnd.jupyter.widget-view+json": {
       "model_id": "edf55a900fe841a78d378f2e3b872a44",
       "version_major": 2,
       "version_minor": 0
      },
      "text/plain": [
       "Validation: 0it [00:00, ?it/s]"
      ]
     },
     "metadata": {},
     "output_type": "display_data"
    },
    {
     "data": {
      "text/html": [
       "<pre style=\"white-space:pre;overflow-x:auto;line-height:normal;font-family:Menlo,'DejaVu Sans Mono',consolas,'Courier New',monospace\">┏━━━━━━━━━━━━━━━━━━━━━━━━━━━┳━━━━━━━━━━━━━━━━━━━━━━━━━━━┓\n",
       "┃<span style=\"font-weight: bold\">      Validate metric      </span>┃<span style=\"font-weight: bold\">       DataLoader 0        </span>┃\n",
       "┡━━━━━━━━━━━━━━━━━━━━━━━━━━━╇━━━━━━━━━━━━━━━━━━━━━━━━━━━┩\n",
       "│<span style=\"color: #008080; text-decoration-color: #008080\">       val_accuracy        </span>│<span style=\"color: #800080; text-decoration-color: #800080\">    0.9596999883651733     </span>│\n",
       "│<span style=\"color: #008080; text-decoration-color: #008080\">       val_f1_score        </span>│<span style=\"color: #800080; text-decoration-color: #800080\">    0.9596999883651733     </span>│\n",
       "│<span style=\"color: #008080; text-decoration-color: #008080\">         val_loss          </span>│<span style=\"color: #800080; text-decoration-color: #800080\">    0.1405220776796341     </span>│\n",
       "└───────────────────────────┴───────────────────────────┘\n",
       "</pre>\n"
      ],
      "text/plain": [
       "┏━━━━━━━━━━━━━━━━━━━━━━━━━━━┳━━━━━━━━━━━━━━━━━━━━━━━━━━━┓\n",
       "┃\u001b[1m \u001b[0m\u001b[1m     Validate metric     \u001b[0m\u001b[1m \u001b[0m┃\u001b[1m \u001b[0m\u001b[1m      DataLoader 0       \u001b[0m\u001b[1m \u001b[0m┃\n",
       "┡━━━━━━━━━━━━━━━━━━━━━━━━━━━╇━━━━━━━━━━━━━━━━━━━━━━━━━━━┩\n",
       "│\u001b[36m \u001b[0m\u001b[36m      val_accuracy       \u001b[0m\u001b[36m \u001b[0m│\u001b[35m \u001b[0m\u001b[35m   0.9596999883651733    \u001b[0m\u001b[35m \u001b[0m│\n",
       "│\u001b[36m \u001b[0m\u001b[36m      val_f1_score       \u001b[0m\u001b[36m \u001b[0m│\u001b[35m \u001b[0m\u001b[35m   0.9596999883651733    \u001b[0m\u001b[35m \u001b[0m│\n",
       "│\u001b[36m \u001b[0m\u001b[36m        val_loss         \u001b[0m\u001b[36m \u001b[0m│\u001b[35m \u001b[0m\u001b[35m   0.1405220776796341    \u001b[0m\u001b[35m \u001b[0m│\n",
       "└───────────────────────────┴───────────────────────────┘\n"
      ]
     },
     "metadata": {},
     "output_type": "display_data"
    },
    {
     "name": "stderr",
     "output_type": "stream",
     "text": [
      "LOCAL_RANK: 0 - CUDA_VISIBLE_DEVICES: [0,1,2,3,4,5,6,7,8]\n"
     ]
    },
    {
     "data": {
      "application/vnd.jupyter.widget-view+json": {
       "model_id": "83e8f17f971148f49f431cc0fdcb31b9",
       "version_major": 2,
       "version_minor": 0
      },
      "text/plain": [
       "Testing: 0it [00:00, ?it/s]"
      ]
     },
     "metadata": {},
     "output_type": "display_data"
    },
    {
     "data": {
      "text/html": [
       "<pre style=\"white-space:pre;overflow-x:auto;line-height:normal;font-family:Menlo,'DejaVu Sans Mono',consolas,'Courier New',monospace\">┏━━━━━━━━━━━━━━━━━━━━━━━━━━━┳━━━━━━━━━━━━━━━━━━━━━━━━━━━┓\n",
       "┃<span style=\"font-weight: bold\">        Test metric        </span>┃<span style=\"font-weight: bold\">       DataLoader 0        </span>┃\n",
       "┡━━━━━━━━━━━━━━━━━━━━━━━━━━━╇━━━━━━━━━━━━━━━━━━━━━━━━━━━┩\n",
       "│<span style=\"color: #008080; text-decoration-color: #008080\">       test_accuracy       </span>│<span style=\"color: #800080; text-decoration-color: #800080\">    0.9538999795913696     </span>│\n",
       "│<span style=\"color: #008080; text-decoration-color: #008080\">       test_f1_score       </span>│<span style=\"color: #800080; text-decoration-color: #800080\">    0.9538999795913696     </span>│\n",
       "│<span style=\"color: #008080; text-decoration-color: #008080\">         test_loss         </span>│<span style=\"color: #800080; text-decoration-color: #800080\">    0.16122230887413025    </span>│\n",
       "└───────────────────────────┴───────────────────────────┘\n",
       "</pre>\n"
      ],
      "text/plain": [
       "┏━━━━━━━━━━━━━━━━━━━━━━━━━━━┳━━━━━━━━━━━━━━━━━━━━━━━━━━━┓\n",
       "┃\u001b[1m \u001b[0m\u001b[1m       Test metric       \u001b[0m\u001b[1m \u001b[0m┃\u001b[1m \u001b[0m\u001b[1m      DataLoader 0       \u001b[0m\u001b[1m \u001b[0m┃\n",
       "┡━━━━━━━━━━━━━━━━━━━━━━━━━━━╇━━━━━━━━━━━━━━━━━━━━━━━━━━━┩\n",
       "│\u001b[36m \u001b[0m\u001b[36m      test_accuracy      \u001b[0m\u001b[36m \u001b[0m│\u001b[35m \u001b[0m\u001b[35m   0.9538999795913696    \u001b[0m\u001b[35m \u001b[0m│\n",
       "│\u001b[36m \u001b[0m\u001b[36m      test_f1_score      \u001b[0m\u001b[36m \u001b[0m│\u001b[35m \u001b[0m\u001b[35m   0.9538999795913696    \u001b[0m\u001b[35m \u001b[0m│\n",
       "│\u001b[36m \u001b[0m\u001b[36m        test_loss        \u001b[0m\u001b[36m \u001b[0m│\u001b[35m \u001b[0m\u001b[35m   0.16122230887413025   \u001b[0m\u001b[35m \u001b[0m│\n",
       "└───────────────────────────┴───────────────────────────┘\n"
      ]
     },
     "metadata": {},
     "output_type": "display_data"
    },
    {
     "data": {
      "text/plain": [
       "[{'test_loss': 0.16122230887413025,\n",
       "  'test_accuracy': 0.9538999795913696,\n",
       "  'test_f1_score': 0.9538999795913696}]"
      ]
     },
     "execution_count": 7,
     "metadata": {},
     "output_type": "execute_result"
    }
   ],
   "source": [
    "model = LightningNN.load_from_checkpoint(\n",
    "    \"./lightning_logs/version_0/checkpoints/last.ckpt\"\n",
    ")\n",
    "trainer = pl.Trainer(\n",
    "    accelerator=accelerator,\n",
    "    num_nodes=1,\n",
    "    devices=1,\n",
    "    precision=precision,\n",
    ")\n",
    "trainer.validate(model, dm)\n",
    "trainer.test(model, dm)"
   ]
  },
  {
   "attachments": {},
   "cell_type": "markdown",
   "metadata": {},
   "source": [
    "# Auto Resuming Trainer\n",
    "\n",
    "```python\n",
    "checkpoint_cb = ModelCheckpoint(\n",
    "    monitor=\"val_loss\",\n",
    "    dirpath=config.checkpoint_path,\n",
    "    save_top_k=1,\n",
    "    mode=\"min\",\n",
    "    save_last=True,\n",
    ")\n",
    "resume_ckpt = os.path.join(config.checkpoint_path, \"last.ckpt\")\n",
    "if not os.path.exists(resume_ckpt):\n",
    "    resume_ckpt = None\n",
    "\n",
    "trainer.fit(model, data_module, ckpt_path=resume_ckpt)\n",
    "```"
   ]
  }
 ],
 "metadata": {
  "kernelspec": {
   "display_name": "d2l",
   "language": "python",
   "name": "python3"
  },
  "language_info": {
   "codemirror_mode": {
    "name": "ipython",
    "version": 3
   },
   "file_extension": ".py",
   "mimetype": "text/x-python",
   "name": "python",
   "nbconvert_exporter": "python",
   "pygments_lexer": "ipython3",
   "version": "3.8.16"
  },
  "orig_nbformat": 4
 },
 "nbformat": 4,
 "nbformat_minor": 2
}
