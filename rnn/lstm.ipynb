{
 "cells": [
  {
   "cell_type": "code",
   "execution_count": 1,
   "metadata": {},
   "outputs": [],
   "source": [
    "import torch\n",
    "import torch.nn as nn\n",
    "import torch.nn.functional as F\n",
    "from typing import Tuple"
   ]
  },
  {
   "cell_type": "markdown",
   "metadata": {},
   "source": [
    "# 单个 LSTM Cell 的实现"
   ]
  },
  {
   "cell_type": "markdown",
   "metadata": {},
   "source": [
    "## Pytorch 接口调用\n",
    "\n",
    "输入的是一个形状为 `(batch, hidden_size)` 的 Tensor"
   ]
  },
  {
   "cell_type": "code",
   "execution_count": 2,
   "metadata": {},
   "outputs": [],
   "source": [
    "batch_size = 8\n",
    "input_size = 64\n",
    "hidden_size = 128\n",
    "bias = True\n",
    "\n",
    "input_tensor = torch.randn(batch_size, input_size)\n",
    "\n",
    "torch_lstm_cell = torch.nn.LSTMCell(input_size, hidden_size, bias)\n",
    "output_tensor_torch = torch_lstm_cell(input_tensor)"
   ]
  },
  {
   "cell_type": "markdown",
   "metadata": {},
   "source": [
    "## LSTM Cell 手动实现\n",
    "\n",
    "Batch化的矩阵形式：\n",
    "\n",
    "$$\n",
    "\\begin{align}\n",
    "& Z = X_{t-1}W_{ih}^T + \\mathbb{b}_{ih} + H_{t-1}W_{hh}^T+ \\mathbb{b}_{hh}  \\\\\n",
    "& i,f,g,o = \\text{split}(Z, 4) \\\\\n",
    "& i = \\text{sigmoid}(i) \\\\\n",
    "& f = \\text{sigmoid}(f) \\\\\n",
    "& g = \\text{tanh}(g) \\\\\n",
    "& o = \\text{sigmoid}(o) \\\\\n",
    "& c_t = i \\odot g + c_{t-1} \\odot f \\\\\n",
    "& h_t = o \\odot \\text{tanh}(c_t)\n",
    "\\end{align}\n",
    "$$"
   ]
  },
  {
   "cell_type": "code",
   "execution_count": 5,
   "metadata": {},
   "outputs": [
    {
     "name": "stdout",
     "output_type": "stream",
     "text": [
      "lstm cell output h1 allclose:  ✅\n",
      "lstm cell output c1 allclose:  ✅\n"
     ]
    }
   ],
   "source": [
    "def lstm_cell(\n",
    "    x: torch.Tensor,\n",
    "    hx: Tuple[torch.Tensor],\n",
    "    W_hh: torch.Tensor,\n",
    "    W_ih: torch.Tensor,\n",
    "    bias_ih: torch.Tensor,\n",
    "    bias_hh: torch.Tensor,\n",
    ") -> torch.Tensor:\n",
    "    h0, c0 = hx\n",
    "    z = x @ W_ih.t() + h0 @ W_hh.t() + bias_hh + bias_ih\n",
    "    i, f, g, o = torch.chunk(z, 4, dim=-1)\n",
    "    i, f, g, o = torch.sigmoid(i), torch.sigmoid(f), torch.tanh(g), torch.sigmoid(o)\n",
    "    c1 = i * g + c0 * f\n",
    "    h1 = o * torch.tanh(c1)\n",
    "    return h1, c1\n",
    "\n",
    "\n",
    "weight_ih = torch_lstm_cell.weight_ih  # [4 * hidden_size, input_size]\n",
    "weight_hh = torch_lstm_cell.weight_hh  # [4 * hidden_size, hidden_size]\n",
    "bias_ih = torch_lstm_cell.bias_ih  # [4 * hidden_size]\n",
    "bais_hh = torch_lstm_cell.bias_hh  #  [4 * hidden_size]\n",
    "\n",
    "zero_tensor = torch.zeros(batch_size, hidden_size)  # [batch_size, hidden_size]\n",
    "hx = (zero_tensor, zero_tensor)\n",
    "\n",
    "output_tensor = lstm_cell(input_tensor, hx, weight_hh, weight_ih, bias_ih, bais_hh)\n",
    "print(\n",
    "    \"lstm cell output h1 allclose: \",\n",
    "    (\n",
    "        \"✅\"\n",
    "        if torch.allclose(output_tensor_torch[0], output_tensor[0], atol=1e-7)\n",
    "        else \"❌\"\n",
    "    ),\n",
    ")\n",
    "print(\n",
    "    \"lstm cell output c1 allclose: \",\n",
    "    (\n",
    "        \"✅\"\n",
    "        if torch.allclose(output_tensor_torch[1], output_tensor[1], atol=1e-7)\n",
    "        else \"❌\"\n",
    "    ),\n",
    ")"
   ]
  },
  {
   "cell_type": "markdown",
   "metadata": {},
   "source": [
    "# 多层 RNN 网络"
   ]
  },
  {
   "cell_type": "markdown",
   "metadata": {},
   "source": [
    "## 多层 RNN 的 Pytorch API"
   ]
  },
  {
   "cell_type": "code",
   "execution_count": 8,
   "metadata": {},
   "outputs": [],
   "source": [
    "batch_size = 8\n",
    "input_size = 64\n",
    "hidden_size = 128\n",
    "seqlen = 32\n",
    "bias = True\n",
    "num_layers = 2\n",
    "\n",
    "input_tensor = torch.randn(batch_size, seqlen, input_size)"
   ]
  },
  {
   "cell_type": "code",
   "execution_count": 9,
   "metadata": {},
   "outputs": [],
   "source": [
    "two_layer_lstm_torch = nn.LSTM(\n",
    "    input_size,\n",
    "    hidden_size,\n",
    "    num_layers,\n",
    "    batch_first=True,\n",
    "    bidirectional=False,\n",
    ")\n",
    "\n",
    "output_tensors_torch = two_layer_lstm_torch(input_tensor)"
   ]
  },
  {
   "cell_type": "markdown",
   "metadata": {},
   "source": [
    "## 多层 LSTM 的手动实现"
   ]
  },
  {
   "cell_type": "code",
   "execution_count": 12,
   "metadata": {},
   "outputs": [
    {
     "name": "stdout",
     "output_type": "stream",
     "text": [
      "otuput allclose:  ✅\n",
      "hidden states ht allclose:  ✅\n",
      "hidden states ct allclose:  ✅\n"
     ]
    }
   ],
   "source": [
    "def two_layer_lstm(input_tensor, layer_params, hx=None):\n",
    "    output_tensor = input_tensor.permute(1, 0, 2)\n",
    "    seqlen, batch_size, _ = output_tensor.shape\n",
    "    num_layers = len(layer_params)\n",
    "    hidden_size = layer_params[0][0].size(0) //  # weight_ih_l0\n",
    "    if hx is None:\n",
    "        ht = torch.zeros(num_layers, batch_size, hidden_size)\n",
    "        ct = torch.zeros(num_layers, batch_size, hidden_size)\n",
    "    else:\n",
    "        ht, ct = hx\n",
    "\n",
    "    for layer in range(num_layers):\n",
    "        output = []\n",
    "        for t in range(seqlen):\n",
    "            W_ih, W_hh, bias_ih, bias_hh = layer_params[layer]\n",
    "            ht[layer], ct[layer] = lstm_cell(\n",
    "                output_tensor[t], (ht[layer], ct[layer]), W_hh, W_ih, bias_ih, bias_hh\n",
    "            )\n",
    "            output.append(ht[layer].clone())\n",
    "        output_tensor = torch.stack(output)\n",
    "    return output_tensor.permute(1, 0, 2), (ht, ct)\n",
    "\n",
    "\n",
    "layer_params = [\n",
    "    (\n",
    "        two_layer_lstm_torch.weight_ih_l0,\n",
    "        two_layer_lstm_torch.weight_hh_l0,\n",
    "        two_layer_lstm_torch.bias_ih_l0,\n",
    "        two_layer_lstm_torch.bias_hh_l0,\n",
    "    ),\n",
    "    (\n",
    "        two_layer_lstm_torch.weight_ih_l1,\n",
    "        two_layer_lstm_torch.weight_hh_l1,\n",
    "        two_layer_lstm_torch.bias_ih_l1,\n",
    "        two_layer_lstm_torch.bias_hh_l1,\n",
    "    ),\n",
    "]\n",
    "output_tensors = two_layer_lstm(input_tensor, layer_params)\n",
    "print(\n",
    "    \"otuput allclose: \",\n",
    "    (\n",
    "        \"✅\"\n",
    "        if torch.allclose(output_tensors_torch[0], output_tensors[0], atol=1e-6)\n",
    "        else \"❌\"\n",
    "    ),\n",
    ")\n",
    "print(\n",
    "    \"hidden states ht allclose: \",\n",
    "    (\n",
    "        \"✅\"\n",
    "        if torch.allclose(output_tensors_torch[1][0], output_tensors[1][0], atol=1e-6)\n",
    "        else \"❌\"\n",
    "    ),\n",
    ")\n",
    "print(\n",
    "    \"hidden states ct allclose: \",\n",
    "    (\n",
    "        \"✅\"\n",
    "        if torch.allclose(output_tensors_torch[1][1], output_tensors[1][1], atol=1e-6)\n",
    "        else \"❌\"\n",
    "    ),\n",
    ")"
   ]
  },
  {
   "cell_type": "markdown",
   "metadata": {},
   "source": [
    "# 双向多层 LSTM"
   ]
  },
  {
   "cell_type": "markdown",
   "metadata": {},
   "source": [
    "## 双向 LSTM 的 Pytorch 接口"
   ]
  },
  {
   "cell_type": "code",
   "execution_count": 13,
   "metadata": {},
   "outputs": [],
   "source": [
    "two_layer_bidir_lstm_torch = nn.LSTM(\n",
    "    input_size, hidden_size, num_layers, batch_first=True, bidirectional=True\n",
    ")\n",
    "output_tensors_torch = two_layer_bidir_lstm_torch(input_tensor)"
   ]
  },
  {
   "cell_type": "markdown",
   "metadata": {},
   "source": [
    "## 双向 LSTM 的手动实现"
   ]
  },
  {
   "cell_type": "code",
   "execution_count": 16,
   "metadata": {},
   "outputs": [
    {
     "name": "stdout",
     "output_type": "stream",
     "text": [
      "output allclose:  ✅\n",
      "hidden states ht allclose:  ✅\n",
      "hidden states ct allclose:  ✅\n"
     ]
    }
   ],
   "source": [
    "def two_layer_bidir_lstm(input_tensor, layer_params, hx=None, bidirection=True):\n",
    "    output_tensor = input_tensor.permute(1, 0, 2)\n",
    "    seqlen, batch_size, _ = output_tensor.shape\n",
    "    num_layers = len(layer_params)\n",
    "    hidden_size = layer_params[0][0].size(0) // 4  # weight_ih_l0\n",
    "    directions = 2 if bidirection else 1\n",
    "\n",
    "    if hx is None:\n",
    "        ht = torch.zeros(directions * num_layers, batch_size, hidden_size)\n",
    "        ct = torch.zeros(directions * num_layers, batch_size, hidden_size)\n",
    "    else:\n",
    "        ht, ct = hx\n",
    "\n",
    "    for layer in range(num_layers):\n",
    "        # 正向\n",
    "        W_ih, W_hh, bias_ih, bias_hh = layer_params[layer][:4]\n",
    "        output = []\n",
    "        for t in range(seqlen):\n",
    "            ht[2 * layer], ct[2 * layer] = lstm_cell(\n",
    "                output_tensor[t],\n",
    "                (ht[2 * layer], ct[2 * layer]),\n",
    "                W_hh,\n",
    "                W_ih,\n",
    "                bias_ih,\n",
    "                bias_hh,\n",
    "            )\n",
    "            output.append(ht[2 * layer].clone())\n",
    "        # 反向\n",
    "        W_ih, W_hh, bias_ih, bias_hh = layer_params[layer][4:]\n",
    "        reverse_output = []\n",
    "        for t in range(seqlen):\n",
    "            ht[2 * layer + 1], ct[2 * layer + 1] = lstm_cell(\n",
    "                output_tensor[seqlen - t - 1],\n",
    "                (ht[2 * layer + 1], ct[2 * layer + 1]),\n",
    "                W_hh,\n",
    "                W_ih,\n",
    "                bias_ih,\n",
    "                bias_hh,\n",
    "            )\n",
    "            reverse_output.append(ht[2 * layer + 1].clone())\n",
    "        reverse_output.reverse()\n",
    "        output_tensor = torch.concat(\n",
    "            [torch.stack(output), torch.stack(reverse_output)], dim=-1\n",
    "        )\n",
    "    return output_tensor.permute(1, 0, 2), (ht, ct)\n",
    "\n",
    "\n",
    "bi_rnn_layer_params = [\n",
    "    (\n",
    "        two_layer_bidir_lstm_torch.weight_ih_l0,\n",
    "        two_layer_bidir_lstm_torch.weight_hh_l0,\n",
    "        two_layer_bidir_lstm_torch.bias_ih_l0,\n",
    "        two_layer_bidir_lstm_torch.bias_hh_l0,\n",
    "        two_layer_bidir_lstm_torch.weight_ih_l0_reverse,\n",
    "        two_layer_bidir_lstm_torch.weight_hh_l0_reverse,\n",
    "        two_layer_bidir_lstm_torch.bias_ih_l0_reverse,\n",
    "        two_layer_bidir_lstm_torch.bias_hh_l0_reverse,\n",
    "    ),\n",
    "    (\n",
    "        two_layer_bidir_lstm_torch.weight_ih_l1,\n",
    "        two_layer_bidir_lstm_torch.weight_hh_l1,\n",
    "        two_layer_bidir_lstm_torch.bias_ih_l1,\n",
    "        two_layer_bidir_lstm_torch.bias_hh_l1,\n",
    "        two_layer_bidir_lstm_torch.weight_ih_l1_reverse,\n",
    "        two_layer_bidir_lstm_torch.weight_hh_l1_reverse,\n",
    "        two_layer_bidir_lstm_torch.bias_ih_l1_reverse,\n",
    "        two_layer_bidir_lstm_torch.bias_hh_l1_reverse,\n",
    "    ),\n",
    "]\n",
    "\n",
    "output_tensors = two_layer_bidir_lstm(\n",
    "    input_tensor, bi_rnn_layer_params, bidirection=True\n",
    ")\n",
    "\n",
    "print(\n",
    "    \"output allclose: \",\n",
    "    (\n",
    "        \"✅\"\n",
    "        if torch.allclose(output_tensors_torch[0], output_tensors[0], atol=1e-6)\n",
    "        else \"❌\"\n",
    "    ),\n",
    ")\n",
    "print(\n",
    "    \"hidden states ht allclose: \",\n",
    "    (\n",
    "        \"✅\"\n",
    "        if torch.allclose(output_tensors_torch[1][0], output_tensors[1][0], atol=1e-6)\n",
    "        else \"❌\"\n",
    "    ),\n",
    ")\n",
    "print(\n",
    "    \"hidden states ct allclose: \",\n",
    "    (\n",
    "        \"✅\"\n",
    "        if torch.allclose(output_tensors_torch[1][1], output_tensors[1][1], atol=1e-6)\n",
    "        else \"❌\"\n",
    "    ),\n",
    ")"
   ]
  }
 ],
 "metadata": {
  "kernelspec": {
   "display_name": "pyml",
   "language": "python",
   "name": "python3"
  },
  "language_info": {
   "codemirror_mode": {
    "name": "ipython",
    "version": 3
   },
   "file_extension": ".py",
   "mimetype": "text/x-python",
   "name": "python",
   "nbconvert_exporter": "python",
   "pygments_lexer": "ipython3",
   "version": "3.10.13"
  }
 },
 "nbformat": 4,
 "nbformat_minor": 2
}
