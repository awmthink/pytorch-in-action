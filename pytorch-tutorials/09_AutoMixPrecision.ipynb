{
 "cells": [
  {
   "attachments": {},
   "cell_type": "markdown",
   "metadata": {},
   "source": [
    "# Automatic Mixed Precision\n",
    "\n",
    "所谓混合精度计算，就是指在整个神经网络训练和推理过程中，有一些算子使用`torch.float32`的数据类型来执行计算，其他的一些算子使用`torch.float16`的数据类型来计算，有一些算子，比如`linear`和`conv`在`float16`和`bfloat16`下计算的更快，其他的一些算子，比如`Reduction`类型的算子往往需要更大的动态范围，则使用`float32`。\n",
    "\n",
    "自动混合精度使得它自动的对每个计算的op匹配最合适的数值精度，这样可以大幅减少运行时的显存开销，提升计算性能。\n",
    "\n",
    "在AMP训练中，我们往往需在组合使用`torch.autocast`和`torch.cuda.amp.GradScaler`\n",
    "\n",
    "Notices: 混合精度计算对于有Tensor Core架构（Volta,Turning,Ampere）的GPU会比较有效，对于老的架构提升不明显。"
   ]
  },
  {
   "cell_type": "code",
   "execution_count": 2,
   "metadata": {},
   "outputs": [],
   "source": [
    "import torch, time, gc\n",
    "\n",
    "start_time = None\n",
    "\n",
    "\n",
    "def start_timer():\n",
    "    global start_time\n",
    "    gc.collect()\n",
    "    torch.cuda.empty_cache()\n",
    "    torch.cuda.reset_max_memory_allocated()\n",
    "    torch.cuda.synchronize()\n",
    "    start_time = time.time()\n",
    "\n",
    "\n",
    "def end_timer_and_print(local_msg):\n",
    "    torch.cuda.synchronize()\n",
    "    end_time = time.time()\n",
    "    print(\"\\n\" + local_msg)\n",
    "    print(f\"Total execution time = {(end_time - start_time):.3f}\")\n",
    "    print(f\"Max memory used by tensors = {torch.cuda.max_memory_allocated()} bytes\")"
   ]
  },
  {
   "cell_type": "code",
   "execution_count": 3,
   "metadata": {},
   "outputs": [],
   "source": [
    "def make_model(in_size, out_size, num_layers):\n",
    "    layers = []\n",
    "    for _ in range(num_layers - 1):\n",
    "        layers.append(torch.nn.Linear(in_size, in_size))\n",
    "        layers.append(torch.nn.ReLU())\n",
    "    layers.append(torch.nn.Linear(in_size, out_size))\n",
    "    return torch.nn.Sequential(*tuple(layers)).cuda()"
   ]
  },
  {
   "cell_type": "code",
   "execution_count": 4,
   "metadata": {},
   "outputs": [],
   "source": [
    "batch_size = 512  # Try, for example, 128, 256, 513.\n",
    "in_size = 4096\n",
    "out_size = 4096\n",
    "num_layers = 3\n",
    "num_batches = 50\n",
    "epochs = 3\n",
    "\n",
    "device = \"cuda\" if torch.cuda.is_available() else \"cpu\"\n",
    "torch.set_default_device(device)\n",
    "\n",
    "# Creates data in default precision.\n",
    "# The same data is used for both default and mixed precision trials below.\n",
    "# You don't need to manually change inputs' ``dtype`` when enabling mixed precision.\n",
    "data = [torch.randn(batch_size, in_size) for _ in range(num_batches)]\n",
    "targets = [torch.randn(batch_size, out_size) for _ in range(num_batches)]\n",
    "\n",
    "loss_fn = torch.nn.MSELoss().cuda()"
   ]
  },
  {
   "attachments": {},
   "cell_type": "markdown",
   "metadata": {},
   "source": [
    "# Default Precision"
   ]
  },
  {
   "cell_type": "code",
   "execution_count": 5,
   "metadata": {},
   "outputs": [
    {
     "name": "stderr",
     "output_type": "stream",
     "text": [
      "/home/yangyansheng/miniconda3/envs/d2l/lib/python3.8/site-packages/torch/cuda/memory.py:303: FutureWarning: torch.cuda.reset_max_memory_allocated now calls torch.cuda.reset_peak_memory_stats, which resets /all/ peak memory stats.\n",
      "  warnings.warn(\n"
     ]
    },
    {
     "name": "stdout",
     "output_type": "stream",
     "text": [
      "\n",
      "Default precision:\n",
      "Total execution time = 9.405\n",
      "Max memory used by tensors = 1283817984 bytes\n"
     ]
    }
   ],
   "source": [
    "net = make_model(in_size, out_size, num_layers)\n",
    "opt = torch.optim.SGD(net.parameters(), lr=0.001)\n",
    "\n",
    "start_timer()\n",
    "for epoch in range(epochs):\n",
    "    for input, target in zip(data, targets):\n",
    "        output = net(input)\n",
    "        loss = loss_fn(output, target)\n",
    "        loss.backward()\n",
    "        opt.step()\n",
    "        opt.zero_grad()  # set_to_none=True here can modestly improve performance\n",
    "end_timer_and_print(\"Default precision:\")"
   ]
  },
  {
   "attachments": {},
   "cell_type": "markdown",
   "metadata": {},
   "source": [
    "# Adding `torch.autocast`\n",
    "\n",
    "注意在下面的代码中，`backward`过程是不在`autocast`范围内的，我们一般不推荐在`backward`时进行混合精度计算。"
   ]
  },
  {
   "cell_type": "code",
   "execution_count": 6,
   "metadata": {},
   "outputs": [
    {
     "name": "stderr",
     "output_type": "stream",
     "text": [
      "/home/yangyansheng/miniconda3/envs/d2l/lib/python3.8/site-packages/torch/cuda/memory.py:303: FutureWarning: torch.cuda.reset_max_memory_allocated now calls torch.cuda.reset_peak_memory_stats, which resets /all/ peak memory stats.\n",
      "  warnings.warn(\n"
     ]
    },
    {
     "name": "stdout",
     "output_type": "stream",
     "text": [
      "\n",
      "Default precision:\n",
      "Total execution time = 2.712\n",
      "Max memory used by tensors = 1304781312 bytes\n"
     ]
    }
   ],
   "source": [
    "start_timer()\n",
    "for epoch in range(epochs):\n",
    "    for input, target in zip(data, targets):\n",
    "        with torch.autocast(device_type=device, dtype=torch.float16):\n",
    "            output = net(input)\n",
    "            assert output.dtype is torch.float16\n",
    "\n",
    "            loss = loss_fn(output, target)\n",
    "            assert loss.dtype is torch.float32\n",
    "        loss.backward()\n",
    "        opt.step()\n",
    "        opt.zero_grad()  # set_to_none=True here can modestly improve performance\n",
    "end_timer_and_print(\"Default precision:\")"
   ]
  },
  {
   "attachments": {},
   "cell_type": "markdown",
   "metadata": {},
   "source": [
    "# Adding `GradScaler`\n",
    "\n",
    "梯度缩放可以帮助阻止在混合精度训练过程中，梯度的太小时变成了零（underflowing），使用`GradScalar`，会在计算完loss后，在backward之前，对整个loss进行缩放，使得整个梯度处理合理的数值范围，保证在反向传播过程中梯度不会出现underflowing的问题。"
   ]
  },
  {
   "cell_type": "code",
   "execution_count": 7,
   "metadata": {},
   "outputs": [],
   "source": [
    "# Constructs a ``scaler`` once, at the beginning of the convergence run, using default arguments.\n",
    "# If your network fails to converge with default ``GradScaler`` arguments, please file an issue.\n",
    "# The same ``GradScaler`` instance should be used for the entire convergence run.\n",
    "# If you perform multiple convergence runs in the same script, each run should use\n",
    "# a dedicated fresh ``GradScaler`` instance. ``GradScaler`` instances are lightweight.\n",
    "scaler = torch.cuda.amp.GradScaler()\n",
    "\n",
    "for epoch in range(0):  # 0 epochs, this section is for illustration only\n",
    "    for input, target in zip(data, targets):\n",
    "        with torch.autocast(device_type=device, dtype=torch.float16):\n",
    "            output = net(input)\n",
    "            loss = loss_fn(output, target)\n",
    "\n",
    "        # Scales loss. Calls ``backward()`` on scaled loss to create scaled gradients.\n",
    "        scaler.scale(loss).backward()\n",
    "\n",
    "        # ``scaler.step()`` first unscales the gradients of the optimizer's assigned parameters.\n",
    "        # If these gradients do not contain ``inf``s or ``NaN``s, optimizer.step() is then called,\n",
    "        # otherwise, optimizer.step() is skipped.\n",
    "        scaler.step(opt)\n",
    "\n",
    "        # Updates the scale for next iteration.\n",
    "        scaler.update()\n",
    "\n",
    "        opt.zero_grad()  # set_to_none=True here can modestly improve performance"
   ]
  },
  {
   "attachments": {},
   "cell_type": "markdown",
   "metadata": {},
   "source": [
    "在上面的代码中，`scaler.scale(loss).backward()`之后，整个参数的梯度都被缩放了，如果我们在`backward()`和`scalar.step(optimizer)`之间需要对参数的梯度进行修改和检查，那么就需要我们先对梯度进行`unscale`"
   ]
  },
  {
   "cell_type": "code",
   "execution_count": 9,
   "metadata": {},
   "outputs": [],
   "source": [
    "for epoch in range(0):  # 0 epochs, this section is for illustration only\n",
    "    for input, target in zip(data, targets):\n",
    "        with torch.autocast(device_type=device, dtype=torch.float16):\n",
    "            output = net(input)\n",
    "            loss = loss_fn(output, target)\n",
    "        scaler.scale(loss).backward()\n",
    "\n",
    "        # Unscales the gradients of optimizer's assigned parameters in-place\n",
    "        scaler.unscale_(opt)\n",
    "\n",
    "        # Since the gradients of optimizer's assigned parameters are now unscaled, clips as usual.\n",
    "        # You may use the same value for max_norm here as you would without gradient scaling.\n",
    "        torch.nn.utils.clip_grad_norm_(net.parameters(), max_norm=0.1)\n",
    "\n",
    "        scaler.step(opt)\n",
    "        scaler.update()\n",
    "        opt.zero_grad()"
   ]
  },
  {
   "attachments": {},
   "cell_type": "markdown",
   "metadata": {},
   "source": [
    "# Use `enabled`\n",
    "\n",
    "我们可以使用`torch.autocast`和`GradScalar`中的`enabled`参数来灵活的在默认数值精度和混合精度之间进行切换"
   ]
  },
  {
   "cell_type": "code",
   "execution_count": 8,
   "metadata": {},
   "outputs": [
    {
     "name": "stdout",
     "output_type": "stream",
     "text": [
      "\n",
      "Mixed precision:\n",
      "Total execution time = 3.113\n",
      "Max memory used by tensors = 1409672192 bytes\n"
     ]
    }
   ],
   "source": [
    "use_amp = True\n",
    "\n",
    "net = make_model(in_size, out_size, num_layers)\n",
    "opt = torch.optim.SGD(net.parameters(), lr=0.001)\n",
    "scaler = torch.cuda.amp.GradScaler(enabled=use_amp)\n",
    "\n",
    "start_timer()\n",
    "for epoch in range(epochs):\n",
    "    for input, target in zip(data, targets):\n",
    "        with torch.autocast(device_type=device, dtype=torch.float16, enabled=use_amp):\n",
    "            output = net(input)\n",
    "            loss = loss_fn(output, target)\n",
    "        scaler.scale(loss).backward()\n",
    "        scaler.step(opt)\n",
    "        scaler.update()\n",
    "        opt.zero_grad()  # set_to_none=True here can modestly improve performance\n",
    "end_timer_and_print(\"Mixed precision:\")"
   ]
  },
  {
   "attachments": {},
   "cell_type": "markdown",
   "metadata": {},
   "source": [
    "# `GradScalar`的状态保存\n",
    "\n",
    "当我们要对 Amp-enabled 的训练过程进行保存和恢复，那么我们需要同时保存`scalar`"
   ]
  },
  {
   "cell_type": "code",
   "execution_count": 12,
   "metadata": {},
   "outputs": [],
   "source": [
    "checkpoint = {\n",
    "    \"model\": net.state_dict(),\n",
    "    \"optimizer\": opt.state_dict(),\n",
    "    \"scaler\": scaler.state_dict(),\n",
    "}\n",
    "torch.save(checkpoint, \"filename\")"
   ]
  },
  {
   "cell_type": "code",
   "execution_count": 13,
   "metadata": {},
   "outputs": [],
   "source": [
    "dev = torch.cuda.current_device()\n",
    "checkpoint = torch.load(\"filename\", map_location=lambda storage, loc: storage.cuda(dev))\n",
    "\n",
    "net.load_state_dict(checkpoint[\"model\"])\n",
    "opt.load_state_dict(checkpoint[\"optimizer\"])\n",
    "scaler.load_state_dict(checkpoint[\"scaler\"])"
   ]
  },
  {
   "attachments": {},
   "cell_type": "markdown",
   "metadata": {},
   "source": [
    "# Advanced topics\n",
    "\n",
    "[Automatic Mixed Precision Examples](https://pytorch.org/docs/stable/notes/amp_examples.html)\n",
    "\n",
    "* Gradient accumulation\n",
    "* Gradient penalty/double backward\n",
    "* Networks with multiple models, optimizers, or losses\n",
    "* Multiple GPUs (torch.nn.DataParallel or torch.nn.parallel.DistributedDataParallel)\n",
    "* Custom autograd functions (subclasses of torch.autograd.Function)"
   ]
  }
 ],
 "metadata": {
  "kernelspec": {
   "display_name": "d2l",
   "language": "python",
   "name": "python3"
  },
  "language_info": {
   "codemirror_mode": {
    "name": "ipython",
    "version": 3
   },
   "file_extension": ".py",
   "mimetype": "text/x-python",
   "name": "python",
   "nbconvert_exporter": "python",
   "pygments_lexer": "ipython3",
   "version": "3.8.16"
  },
  "orig_nbformat": 4
 },
 "nbformat": 4,
 "nbformat_minor": 2
}
