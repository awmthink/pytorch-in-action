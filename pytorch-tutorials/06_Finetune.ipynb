{
 "cells": [
  {
   "cell_type": "code",
   "execution_count": 1,
   "metadata": {},
   "outputs": [],
   "source": [
    "import torch\n",
    "import torch.nn as nn\n",
    "import torchvision\n",
    "from torch.utils.tensorboard import SummaryWriter\n",
    "from d2l import trainer"
   ]
  },
  {
   "attachments": {},
   "cell_type": "markdown",
   "metadata": {},
   "source": [
    "# 定义预训练模型的权重"
   ]
  },
  {
   "cell_type": "code",
   "execution_count": 2,
   "metadata": {},
   "outputs": [],
   "source": [
    "pretrain_model = torchvision.models.get_model_weights(\"resnet50\").DEFAULT"
   ]
  },
  {
   "attachments": {},
   "cell_type": "markdown",
   "metadata": {},
   "source": [
    "# 创建Flower数据集"
   ]
  },
  {
   "cell_type": "code",
   "execution_count": 3,
   "metadata": {},
   "outputs": [],
   "source": [
    "transform = pretrain_model.transforms()\n",
    "flower_dataset = torchvision.datasets.ImageFolder(\"../data/flowers/\", transform)"
   ]
  },
  {
   "cell_type": "code",
   "execution_count": 4,
   "metadata": {},
   "outputs": [
    {
     "data": {
      "text/plain": [
       "['daisy', 'dandelion', 'rose', 'sunflower', 'tulip']"
      ]
     },
     "execution_count": 4,
     "metadata": {},
     "output_type": "execute_result"
    }
   ],
   "source": [
    "flower_dataset.classes"
   ]
  },
  {
   "cell_type": "code",
   "execution_count": 5,
   "metadata": {},
   "outputs": [
    {
     "name": "stdout",
     "output_type": "stream",
     "text": [
      "training dataset size: 3454, validation dataset size: 863\n"
     ]
    }
   ],
   "source": [
    "validation_rate = 0.2\n",
    "tr_dataset, va_dataset = torch.utils.data.random_split(flower_dataset, [0.8, 0.2])\n",
    "print(\n",
    "    f\"training dataset size: {len(tr_dataset)}, validation dataset size: {len(va_dataset)}\"\n",
    ")\n",
    "tr_dataloader = torch.utils.data.DataLoader(tr_dataset, batch_size=32, shuffle=True)\n",
    "va_dataloader = torch.utils.data.DataLoader(va_dataset, batch_size=32, shuffle=False)"
   ]
  },
  {
   "attachments": {},
   "cell_type": "markdown",
   "metadata": {},
   "source": [
    "# 模型微调"
   ]
  },
  {
   "cell_type": "code",
   "execution_count": 6,
   "metadata": {},
   "outputs": [
    {
     "name": "stderr",
     "output_type": "stream",
     "text": [
      "Downloading: \"https://download.pytorch.org/models/resnet50-11ad3fa6.pth\" to /home/yangyansheng/.cache/torch/hub/checkpoints/resnet50-11ad3fa6.pth\n",
      "100%|██████████| 97.8M/97.8M [00:17<00:00, 5.71MB/s]\n"
     ]
    },
    {
     "name": "stdout",
     "output_type": "stream",
     "text": [
      "epoch 10: train_loss: 0.3028, train_acc:  0.9102, test_acc:  0.9340\n"
     ]
    }
   ],
   "source": [
    "model = torchvision.models.resnet50(weights=pretrain_model)\n",
    "\n",
    "\n",
    "# 将预训练模型的全连接层换成一个新的全连接层，参数重新初始化\n",
    "model.fc = nn.Linear(model.fc.in_features, len(flower_dataset.classes))\n",
    "nn.init.xavier_uniform_(model.fc.weight)\n",
    "\n",
    "# 以于预训练的参数的学习率要，比常规的学习率低1个数量级左右\n",
    "learning_rate = 1e-3\n",
    "epoch = 10\n",
    "num_device = 2\n",
    "devices = [torch.device(\"cuda:{}\".format(i)) for i in range(num_device)]\n",
    "\n",
    "parallel_model = nn.DataParallel(model, device_ids=devices)\n",
    "parallel_model.to(device=devices[0])\n",
    "loss = nn.CrossEntropyLoss()\n",
    "\n",
    "# 构建参数组\n",
    "params_feature = [\n",
    "    params\n",
    "    for name, params in model.named_parameters()\n",
    "    if name not in [\"fc.weight\", \"fc.bias\"]\n",
    "]\n",
    "# 为不同的参数组，设置不同的学习率\n",
    "optimizer = torch.optim.SGD(\n",
    "    [\n",
    "        {\"params\": params_feature},\n",
    "        {\"params\": model.fc.parameters(), \"lr\": learning_rate * 10},\n",
    "    ],\n",
    "    lr=learning_rate,\n",
    "    weight_decay=0.001,\n",
    ")\n",
    "\n",
    "writer = SummaryWriter(\"logs/flower_finetune\")\n",
    "\n",
    "trainer.nn_train(\n",
    "    tr_dataloader,\n",
    "    va_dataloader,\n",
    "    parallel_model,\n",
    "    loss,\n",
    "    optimizer,\n",
    "    devices=devices,\n",
    "    epoch=epoch,\n",
    "    writer=writer,\n",
    ")"
   ]
  }
 ],
 "metadata": {
  "kernelspec": {
   "display_name": "d2l",
   "language": "python",
   "name": "python3"
  },
  "language_info": {
   "codemirror_mode": {
    "name": "ipython",
    "version": 3
   },
   "file_extension": ".py",
   "mimetype": "text/x-python",
   "name": "python",
   "nbconvert_exporter": "python",
   "pygments_lexer": "ipython3",
   "version": "3.10.13"
  },
  "orig_nbformat": 4
 },
 "nbformat": 4,
 "nbformat_minor": 2
}
