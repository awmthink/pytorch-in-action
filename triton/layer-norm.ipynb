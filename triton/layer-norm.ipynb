{
 "cells": [
  {
   "cell_type": "markdown",
   "metadata": {},
   "source": [
    "# LayerNorm"
   ]
  },
  {
   "cell_type": "code",
   "execution_count": 2,
   "metadata": {},
   "outputs": [
    {
     "name": "stdout",
     "output_type": "stream",
     "text": [
      "True\n"
     ]
    }
   ],
   "source": [
    "import torch\n",
    "import torch.nn.functional as F\n",
    "import triton\n",
    "import triton.language as tl\n",
    "\n",
    "\n",
    "@triton.jit\n",
    "def layer_norm_fwd_kernel(\n",
    "    X, Y, W, B, Mean, Rstd, stride, N, eps, BLOCK_SIZE: tl.constexpr\n",
    "):\n",
    "    pid = tl.program_id(axis=0)\n",
    "    row = pid\n",
    "\n",
    "    # 将 X 和 Y 都定位到指定当前线程块对应的那一行数据上\n",
    "    X += row * stride\n",
    "    Y += row * stride\n",
    "\n",
    "    # 计算 X 中第 row 行数组的均值\n",
    "    # 依次计算出每个 BLOCK_SIZE 区间内的 mean，然后相加在一起\n",
    "    block_mean = tl.zeros((BLOCK_SIZE,), dtype=tl.float32)\n",
    "    for blk_start in range(0, N, BLOCK_SIZE):\n",
    "        offsets = blk_start + tl.arange(0, BLOCK_SIZE)\n",
    "        x = tl.load(X + offsets, mask=offsets < N, other=0).to(tl.float32)\n",
    "        block_mean += x\n",
    "    mean = tl.sum(block_mean) / N\n",
    "    tl.store(Mean + row, mean)\n",
    "\n",
    "    # 计算 X 中第 row 行数组的方差\n",
    "    block_var = tl.zeros((BLOCK_SIZE,), dtype=tl.float32)\n",
    "    for blk_start in range(0, N, BLOCK_SIZE):\n",
    "        offsets = blk_start + tl.arange(0, BLOCK_SIZE)\n",
    "        x = tl.load(X + offsets, mask=offsets < N, other=0).to(tl.float32)\n",
    "        x = tl.where(offsets < N, x - mean, 0.0)\n",
    "        block_var += x * x\n",
    "    var = tl.sum(block_var) / N\n",
    "    rstd = 1 / tl.sqrt(var + eps)\n",
    "    tl.store(Rstd + row, rstd)\n",
    "\n",
    "    # 对 x 应用规一化\n",
    "    for blk_start in range(0, N, BLOCK_SIZE):\n",
    "        offsets = blk_start + tl.arange(0, BLOCK_SIZE)\n",
    "        mask = offsets < N\n",
    "        x = tl.load(X + offsets, mask=mask).to(tl.float32)\n",
    "        w = tl.load(W + offsets, mask=mask)\n",
    "        b = tl.load(B + offsets, mask=mask)\n",
    "        y = (x - mean) * rstd * w + b\n",
    "        tl.store(Y + offsets, y, mask=mask)\n",
    "\n",
    "\n",
    "def layer_norm_fwd(x: torch.Tensor, weight: torch.Tensor, bias: torch.Tensor, eps=1e-5):\n",
    "    assert x.is_cuda and weight.is_cuda and bias.is_cuda\n",
    "\n",
    "    output = torch.zeros_like(x, device=\"cuda\")\n",
    "\n",
    "    feature_dim = x.size(-1)\n",
    "    x = x.view(-1, feature_dim)\n",
    "    n = x.size(0)\n",
    "    mean = torch.zeros(n, dtype=x.dtype, device=\"cuda\")\n",
    "    rstd = torch.zeros(n, dtype=x.dtype, device=\"cuda\")\n",
    "    grid = (n,)\n",
    "    layer_norm_fwd_kernel[grid](\n",
    "        x,\n",
    "        output,\n",
    "        weight,\n",
    "        bias,\n",
    "        mean,\n",
    "        rstd,\n",
    "        stride=x.stride(0),\n",
    "        N=feature_dim,\n",
    "        eps=eps,\n",
    "        BLOCK_SIZE=64,\n",
    "    )\n",
    "    return output\n",
    "\n",
    "\n",
    "def main_test():\n",
    "    batch_size = 2\n",
    "    seq_len = 3\n",
    "    input_size = 5\n",
    "    x = torch.randn(batch_size, seq_len, input_size, device=\"cuda\")\n",
    "    weight = torch.randn((input_size,), device=\"cuda\")\n",
    "    bias = torch.zeros((input_size,), device=\"cuda\")\n",
    "\n",
    "    layer_norm_output_torch = F.layer_norm(x, (input_size,), weight=weight, bias=bias)\n",
    "    layer_norm_output_triton = layer_norm_fwd(x, weight, bias)\n",
    "\n",
    "    print(torch.allclose(layer_norm_output_torch, layer_norm_output_triton, atol=1e-6))\n",
    "\n",
    "\n",
    "\n",
    "main_test()\n"
   ]
  }
 ],
 "metadata": {
  "kernelspec": {
   "display_name": "pyml",
   "language": "python",
   "name": "python3"
  },
  "language_info": {
   "codemirror_mode": {
    "name": "ipython",
    "version": 3
   },
   "file_extension": ".py",
   "mimetype": "text/x-python",
   "name": "python",
   "nbconvert_exporter": "python",
   "pygments_lexer": "ipython3",
   "version": "3.10.13"
  }
 },
 "nbformat": 4,
 "nbformat_minor": 2
}
