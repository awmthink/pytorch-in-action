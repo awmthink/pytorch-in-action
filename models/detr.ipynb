{
 "cells": [
  {
   "cell_type": "markdown",
   "metadata": {},
   "source": [
    "# DEtection TRansfomer (DETR)\n",
    "\n",
    "https://medium.com/@rafaeltol/understanding-and-coding-detr-detection-transfomer-80e4c206fbc8\n",
    "\n",
    "\n",
    "https://amaarora.github.io/posts/2021-07-26-annotateddetr.html"
   ]
  },
  {
   "cell_type": "markdown",
   "metadata": {},
   "source": []
  }
 ],
 "metadata": {
  "language_info": {
   "name": "python"
  }
 },
 "nbformat": 4,
 "nbformat_minor": 2
}
