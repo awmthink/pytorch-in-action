{
 "cells": [
  {
   "cell_type": "markdown",
   "metadata": {},
   "source": [
    "# Qwen-VL"
   ]
  },
  {
   "cell_type": "markdown",
   "metadata": {},
   "source": [
    "* [Qwen-VL、Qwen2-VL论文阅读记录](https://zhuanlan.zhihu.com/p/8057933702)\n",
    "* [Qwen2-VL 模型结构和万字源码解析](https://zhuanlan.zhihu.com/p/9613363595)"
   ]
  }
 ],
 "metadata": {
  "language_info": {
   "name": "python"
  }
 },
 "nbformat": 4,
 "nbformat_minor": 2
}
