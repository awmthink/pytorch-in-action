{
 "cells": [
  {
   "cell_type": "markdown",
   "metadata": {},
   "source": [
    "# Qwen-VL"
   ]
  },
  {
   "cell_type": "markdown",
   "metadata": {},
   "source": [
    "* [Qwen-VL、Qwen2-VL论文阅读记录](https://zhuanlan.zhihu.com/p/8057933702)\n",
    "* [Qwen2-VL 模型结构和万字源码解析](https://zhuanlan.zhihu.com/p/9613363595)"
   ]
  }
 ],
 "metadata": {
  "kernelspec": {
   "display_name": "pyml",
   "language": "python",
   "name": "python3"
  },
  "language_info": {
   "name": "python",
   "version": "3.10.13"
  }
 },
 "nbformat": 4,
 "nbformat_minor": 2
}
