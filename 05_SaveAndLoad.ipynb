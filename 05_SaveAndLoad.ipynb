{
 "cells": [
  {
   "attachments": {},
   "cell_type": "markdown",
   "id": "flying-mission",
   "metadata": {},
   "source": [
    "# Tensor与module的保存与加载\n",
    "\n",
    "https://pytorch.org/tutorials/beginner/saving_loading_models.html"
   ]
  },
  {
   "cell_type": "code",
   "execution_count": 1,
   "id": "mental-north",
   "metadata": {},
   "outputs": [],
   "source": [
    "import torch\n",
    "from torch import nn\n",
    "import os"
   ]
  },
  {
   "attachments": {},
   "cell_type": "markdown",
   "id": "gorgeous-floating",
   "metadata": {},
   "source": [
    "# Tensor的保存与加载"
   ]
  },
  {
   "cell_type": "code",
   "execution_count": 3,
   "id": "general-electric",
   "metadata": {},
   "outputs": [
    {
     "name": "stdout",
     "output_type": "stream",
     "text": [
      "tensor([[ 0.7387, -1.5761, -1.1319,  0.6973,  0.8781],\n",
      "        [-1.3609,  0.4777, -0.0969, -0.5937,  0.0431],\n",
      "        [ 0.8837,  0.4034, -0.7483,  0.3092, -0.8628],\n",
      "        [-1.3030, -0.8521, -0.1324, -0.4000, -1.0109],\n",
      "        [ 1.0480,  0.1687,  1.6522, -0.6016, -0.1482]])\n"
     ]
    }
   ],
   "source": [
    "# 序列化到文件\n",
    "t = torch.randn(5, 5)\n",
    "print(t)\n",
    "torch.save(t, \"/tmp/t.tensor\")\n",
    "t1 = torch.load(\"/tmp/t.tensor\")\n",
    "assert torch.sum(t - t1) < 1e-5\n",
    "os.remove(\"/tmp/t.tensor\")"
   ]
  },
  {
   "cell_type": "code",
   "execution_count": 4,
   "id": "choice-active",
   "metadata": {},
   "outputs": [],
   "source": [
    "from io import BytesIO\n",
    "\n",
    "t = torch.randn(5, 5)\n",
    "buffer = BytesIO()\n",
    "torch.save(t, buffer)\n",
    "# 重置buffer的读写位置\n",
    "buffer.seek(0)\n",
    "t1 = torch.load(buffer)"
   ]
  },
  {
   "attachments": {},
   "cell_type": "markdown",
   "id": "remarkable-globe",
   "metadata": {},
   "source": [
    "# Module的保存与加载\n",
    "\n",
    "可以单独保存模型的参数，也可以把整个模型保存起来"
   ]
  },
  {
   "cell_type": "code",
   "execution_count": 6,
   "id": "explicit-gravity",
   "metadata": {},
   "outputs": [],
   "source": [
    "model = nn.Sequential(nn.Linear(25, 100), nn.ReLU(), nn.Linear(100, 10))\n",
    "torch.save(model.state_dict(), \"/tmp/mlp-params.pt\")"
   ]
  },
  {
   "cell_type": "code",
   "execution_count": 8,
   "id": "public-jewelry",
   "metadata": {},
   "outputs": [
    {
     "data": {
      "text/plain": [
       "<All keys matched successfully>"
      ]
     },
     "execution_count": 8,
     "metadata": {},
     "output_type": "execute_result"
    }
   ],
   "source": [
    "params = torch.load(\"/tmp/mlp-params.pt\")\n",
    "# 现在的模型加载一份离线的参数\n",
    "model.load_state_dict(params)"
   ]
  },
  {
   "cell_type": "code",
   "execution_count": 14,
   "id": "ambient-dragon",
   "metadata": {},
   "outputs": [],
   "source": [
    "# 直接把一个网络保存下来\n",
    "torch.save(model, \"./data/mlp-model.pt\")"
   ]
  },
  {
   "cell_type": "code",
   "execution_count": 15,
   "id": "english-christian",
   "metadata": {},
   "outputs": [
    {
     "name": "stdout",
     "output_type": "stream",
     "text": [
      "Sequential(\n",
      "  (0): Linear(in_features=25, out_features=100, bias=True)\n",
      "  (1): ReLU()\n",
      "  (2): Linear(in_features=100, out_features=10, bias=True)\n",
      ")\n"
     ]
    }
   ],
   "source": [
    "print(torch.load(\"./data/mlp-model.pt\"))"
   ]
  },
  {
   "attachments": {},
   "cell_type": "markdown",
   "id": "fluid-stomach",
   "metadata": {},
   "source": [
    "# 使用GPU"
   ]
  },
  {
   "cell_type": "code",
   "execution_count": 9,
   "id": "banner-zealand",
   "metadata": {},
   "outputs": [],
   "source": [
    "gpu_model = model.to(device=\"cuda:0\")"
   ]
  },
  {
   "cell_type": "code",
   "execution_count": 10,
   "id": "banned-assist",
   "metadata": {},
   "outputs": [
    {
     "data": {
      "text/plain": [
       "tensor([[-0.1885,  0.3525,  0.5501,  0.1224, -0.1966, -0.3041,  0.1034, -0.1547,\n",
       "          0.2408,  0.2632]], device='cuda:0', grad_fn=<AddmmBackward>)"
      ]
     },
     "execution_count": 10,
     "metadata": {},
     "output_type": "execute_result"
    }
   ],
   "source": [
    "input = torch.randn(1, 25, device=\"cuda:0\")\n",
    "gpu_model(input)"
   ]
  },
  {
   "cell_type": "markdown",
   "id": "b4f30404",
   "metadata": {},
   "source": [
    "GPU下保存的Tesnor或model，加载回来时，还是在对应的GPU上"
   ]
  },
  {
   "cell_type": "code",
   "execution_count": 7,
   "id": "inside-conclusion",
   "metadata": {},
   "outputs": [
    {
     "data": {
      "text/plain": [
       "device(type='cuda', index=0)"
      ]
     },
     "execution_count": 7,
     "metadata": {},
     "output_type": "execute_result"
    }
   ],
   "source": [
    "t = torch.randn(3, 4, device=\"cuda\")\n",
    "torch.save(t, \"./data/t-cuda.pt\")\n",
    "t = torch.load(\"./data/t-cuda.pt\")\n",
    "t.device"
   ]
  },
  {
   "cell_type": "markdown",
   "id": "70af276c",
   "metadata": {},
   "source": [
    "# 优化器状态的保存与加载"
   ]
  },
  {
   "cell_type": "code",
   "execution_count": 9,
   "id": "8e3ffeb2",
   "metadata": {},
   "outputs": [],
   "source": [
    "optimizer = torch.optim.Adam(model.parameters(), lr=1e-4)\n",
    "\n",
    "checkpoint = {\"state_dict\": model.state_dict(), \"optimizer\": optimizer.state_dict()}\n",
    "\n",
    "torch.save(checkpoint, \"/tmp/tmp.ckpt\")"
   ]
  },
  {
   "cell_type": "code",
   "execution_count": 10,
   "id": "db9102bc",
   "metadata": {},
   "outputs": [
    {
     "name": "stdout",
     "output_type": "stream",
     "text": [
      "dict_keys(['state_dict', 'optimizer'])\n"
     ]
    }
   ],
   "source": [
    "checkpoint = torch.load(\"/tmp/tmp.ckpt\")\n",
    "print(checkpoint.keys())"
   ]
  },
  {
   "cell_type": "code",
   "execution_count": null,
   "id": "8dec4e7b",
   "metadata": {},
   "outputs": [],
   "source": [
    "model.load_state_dict(checkpoint[\"state_dict\"])\n",
    "optimizer.load_state_dict(checkpoint[\"optimizer\"])"
   ]
  }
 ],
 "metadata": {
  "kernelspec": {
   "display_name": "Python 3",
   "language": "python",
   "name": "python3"
  },
  "language_info": {
   "codemirror_mode": {
    "name": "ipython",
    "version": 3
   },
   "file_extension": ".py",
   "mimetype": "text/x-python",
   "name": "python",
   "nbconvert_exporter": "python",
   "pygments_lexer": "ipython3",
   "version": "3.8.16"
  }
 },
 "nbformat": 4,
 "nbformat_minor": 5
}
